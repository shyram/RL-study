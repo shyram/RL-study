{
 "cells": [
  {
   "cell_type": "markdown",
   "id": "e45d76dc",
   "metadata": {},
   "source": [
    "# Cliff Walking Example을 통한 SARSA와 Q-Learning 비교"
   ]
  },
  {
   "cell_type": "markdown",
   "id": "b2e10e4f",
   "metadata": {},
   "source": [
    "## Library Import"
   ]
  },
  {
   "cell_type": "code",
   "execution_count": 1,
   "id": "64681b46",
   "metadata": {},
   "outputs": [],
   "source": [
    "import numpy as np\n",
    "import random\n",
    "from IPython.display import clear_output"
   ]
  },
  {
   "cell_type": "markdown",
   "id": "fe25da62",
   "metadata": {},
   "source": [
    "## Make Environment\n",
    "\n",
    "절벽 환경 구현하기  \n"
   ]
  },
  {
   "cell_type": "code",
   "execution_count": 2,
   "id": "6c67c846",
   "metadata": {},
   "outputs": [],
   "source": [
    "class Cliff:\n",
    "    \n",
    "    def __init__(self, row, col):\n",
    "        if (row <= 1) or (col <= 1):\n",
    "            print('make env (row, col) = (2, 2)')\n",
    "        else:\n",
    "            print('make env (row, col) = ({}, {})'.format(row, col))\n",
    "        self.row = row\n",
    "        self.col = col\n",
    "        self.pos = [0, 0]\n",
    "        \n",
    "    def reset(self):\n",
    "        self.pos = [0, 0]\n",
    "        return 0\n",
    "    \n",
    "    def render(self):\n",
    "        print('TODO')\n",
    "        \n",
    "        for i in range()\n",
    "    \n",
    "    def step(self, action):\n",
    "        # [Left, Down, Right, Up] = [0, 1, 2, 3]\n",
    "        \n",
    "        reward = 0\n",
    "        \n",
    "        if action == 0:\n",
    "            if self.pos[1] > 0:\n",
    "                self.pos[1] -= 1\n",
    "            else:\n",
    "                reward = -1\n",
    "            \n",
    "        elif action == 1:\n",
    "            if self.pos[0] > 0:\n",
    "                self.pos[0] -= 1\n",
    "            else:\n",
    "                reward = -1\n",
    "                \n",
    "        elif action == 2:\n",
    "            if self.pos[1] + 1 < self.col:\n",
    "                self.pos[1] += 1\n",
    "            else:\n",
    "                reward = -1\n",
    "                \n",
    "        elif action == 3:\n",
    "            if self.pos[0] + 1 < self.row:\n",
    "                self.pos[0] += 1\n",
    "            else:\n",
    "                reward = -1\n",
    "        \n",
    "        state = self.pos[0] * self.col + self.pos[1]\n",
    "        done = False\n",
    "        \n",
    "        if self.pos[0] == 0 and self.pos[1] > 0:\n",
    "            done = True\n",
    "            if self.pos[1] == self.col - 1:\n",
    "                reward = 1\n",
    "            else:\n",
    "                reward = -100\n",
    "                \n",
    "        return state, reward, done\n",
    "    \n",
    "    def env_info(self):\n",
    "        state_n = self.col * self.row\n",
    "        action_n = 4\n",
    "        \n",
    "        return state_n, action_n"
   ]
  },
  {
   "cell_type": "markdown",
   "id": "f1152498",
   "metadata": {},
   "source": [
    "## SARSA"
   ]
  },
  {
   "cell_type": "code",
   "execution_count": 3,
   "id": "53e686db",
   "metadata": {
    "scrolled": true
   },
   "outputs": [
    {
     "name": "stdout",
     "output_type": "stream",
     "text": [
      "Episode: 100000\n",
      "Q function\n",
      "[[-1.63991780e+01 -9.23186425e+00 -1.00000000e+02 -2.14987140e+00]\n",
      " [ 0.00000000e+00  0.00000000e+00  0.00000000e+00  0.00000000e+00]\n",
      " [ 0.00000000e+00  0.00000000e+00  0.00000000e+00  0.00000000e+00]\n",
      " [ 0.00000000e+00  0.00000000e+00  0.00000000e+00  0.00000000e+00]\n",
      " [ 0.00000000e+00  0.00000000e+00  0.00000000e+00  0.00000000e+00]\n",
      " [ 0.00000000e+00  0.00000000e+00  0.00000000e+00  0.00000000e+00]\n",
      " [-3.57415465e+00 -1.14470928e+01 -1.17226209e+01 -1.71265696e+00]\n",
      " [-3.84840093e+00 -1.00000000e+02 -6.85983933e+00 -2.13800846e+00]\n",
      " [-9.54546195e+00 -1.00000000e+02 -5.21455683e+00 -1.54936780e+00]\n",
      " [-4.62336157e+00 -1.00000000e+02 -8.29312251e+00 -1.43179830e+00]\n",
      " [-2.73426595e+01 -1.00000000e+02  2.72895192e-01 -1.57602716e+00]\n",
      " [-2.90691025e+00  1.00000000e+00 -1.26700193e+00 -4.23065702e-01]\n",
      " [-2.61616379e+00 -3.76626796e+00 -1.69376549e+00 -1.81858196e+00]\n",
      " [-1.89275717e+00 -2.03254949e+01 -1.68691193e+00 -1.69164077e+00]\n",
      " [-2.12407825e+00 -2.37187427e+00 -2.43106748e+00 -1.80980929e+00]\n",
      " [-1.46423561e+00 -1.64390707e+01 -1.16578936e+00 -1.36058086e+00]\n",
      " [-2.28375706e+00 -1.32324272e+01 -8.73499249e-01 -1.16548672e+00]\n",
      " [-1.54272789e+00 -5.62386231e-02 -1.78253155e+00 -1.48461320e+00]\n",
      " [-2.44524441e+00 -2.08486048e+00 -1.82490470e+00 -2.57482526e+00]\n",
      " [-1.88998640e+00 -2.43960334e+00 -1.84141921e+00 -2.54729301e+00]\n",
      " [-1.89680331e+00 -1.90561272e+00 -1.87289284e+00 -2.65289663e+00]\n",
      " [-1.88778425e+00 -2.08636327e+00 -1.87305925e+00 -2.35896043e+00]\n",
      " [-1.48309139e+00 -3.45230731e+00 -1.34939864e+00 -2.14231814e+00]\n",
      " [-1.59540203e+00 -1.14964825e+00 -1.82939675e+00 -2.22066347e+00]]\n"
     ]
    }
   ],
   "source": [
    "row = 4\n",
    "col = 6\n",
    "env = Cliff(row, col)\n",
    "\n",
    "state_n, action_n = env.env_info()\n",
    "\n",
    "Q = np.zeros([state_n, action_n])\n",
    "alpha = 0.1\n",
    "gamma = 0.99\n",
    "epsilon = 0.3\n",
    "\n",
    "for i in range(1, 100001):\n",
    "    state = env.reset()\n",
    "    done = False\n",
    "    \n",
    "    if random.uniform(0, 1) < epsilon:\n",
    "        action = random.choice([0, 1, 2, 3])\n",
    "    else:\n",
    "        action = np.argmax(Q[state])\n",
    "        \n",
    "    while not done:\n",
    "        next_state, reward, done = env.step(action)\n",
    "        \n",
    "        if random.uniform(0, 1) < epsilon:\n",
    "            next_action = random.choice([0, 1, 2, 3])\n",
    "        else:\n",
    "            next_action = np.argmax(Q[next_state])\n",
    "            \n",
    "        if done:\n",
    "            Q[state, action] = (1 - alpha) * Q[state, action] + alpha * reward\n",
    "        else:\n",
    "            Q[state, action] = (1 - alpha) * Q[state, action] + alpha * (reward + gamma * Q[next_state, next_action])\n",
    "        \n",
    "        state, action = next_state, next_action\n",
    "        \n",
    "    if i % 100 == 0:\n",
    "        clear_output(wait=True)\n",
    "        print('Episode: {}'.format(i))\n",
    "\n",
    "print('Q function')\n",
    "print(Q)       "
   ]
  },
  {
   "cell_type": "code",
   "execution_count": 4,
   "id": "69674d14",
   "metadata": {},
   "outputs": [
    {
     "name": "stdout",
     "output_type": "stream",
     "text": [
      "Right\tRight\tRight\tRight\tRight\tDown\t\n",
      "Right\tRight\tUp\tRight\tRight\tDown\t\n",
      "Up\tUp\tUp\tUp\tRight\tDown\t\n",
      "Up\tLeft\tLeft\tLeft\tLeft\tLeft\t\n"
     ]
    }
   ],
   "source": [
    "dic = {0:'Left', 1:'Down', 2:'Right', 3:'Up'}\n",
    "for i in range(row - 1, -1, -1):\n",
    "    for j in range(col):\n",
    "        #print(i*col + j, end='\\t')\n",
    "        print(dic[np.argmax(Q[i*col + j])], end=\"\\t\")\n",
    "    print()"
   ]
  },
  {
   "cell_type": "markdown",
   "id": "6d0a665f",
   "metadata": {},
   "source": [
    "## Q-Learning\n",
    "\n",
    "- epsilon을 조절하며 pass cnt가 얼마나 늘어나는지 확인해보자."
   ]
  },
  {
   "cell_type": "code",
   "execution_count": 5,
   "id": "08a47b5c",
   "metadata": {
    "scrolled": true
   },
   "outputs": [
    {
     "name": "stdout",
     "output_type": "stream",
     "text": [
      "Episode: 50000, Goal: 5506\n",
      "Q function\n",
      "[[-6.79346521e-02 -6.79346521e-02 -1.00000000e+02  9.41480149e-01]\n",
      " [ 0.00000000e+00  0.00000000e+00  0.00000000e+00  0.00000000e+00]\n",
      " [ 0.00000000e+00  0.00000000e+00  0.00000000e+00  0.00000000e+00]\n",
      " [ 0.00000000e+00  0.00000000e+00  0.00000000e+00  0.00000000e+00]\n",
      " [ 0.00000000e+00  0.00000000e+00  0.00000000e+00  0.00000000e+00]\n",
      " [ 0.00000000e+00  0.00000000e+00  0.00000000e+00  0.00000000e+00]\n",
      " [-5.85198506e-02  9.32065348e-01  9.50990050e-01  9.32065348e-01]\n",
      " [ 9.41480149e-01 -1.00000000e+02  9.60596010e-01  9.41480149e-01]\n",
      " [ 9.50990050e-01 -1.00000000e+02  9.70299000e-01  9.50990050e-01]\n",
      " [ 9.60596010e-01 -1.00000000e+02  9.80100000e-01  9.60596010e-01]\n",
      " [ 9.70299000e-01 -1.00000000e+02  9.90000000e-01  9.70299000e-01]\n",
      " [ 9.80100000e-01  1.00000000e+00 -1.00000000e-02  9.80100000e-01]\n",
      " [-6.79346521e-02  9.41480149e-01  9.41480149e-01  9.22744694e-01]\n",
      " [ 9.32065348e-01  9.50990050e-01  9.50990050e-01  9.32065348e-01]\n",
      " [ 9.41480149e-01  9.60596010e-01  9.60596010e-01  9.41480149e-01]\n",
      " [ 9.50990050e-01  9.70299000e-01  9.70299000e-01  9.50990050e-01]\n",
      " [ 9.60596010e-01  9.80100000e-01  9.80100000e-01  9.60596010e-01]\n",
      " [ 9.70299000e-01  9.90000000e-01 -1.99000000e-02  9.70298996e-01]\n",
      " [-7.72558861e-02  9.32065348e-01  9.32053365e-01 -7.72557366e-02]\n",
      " [ 9.22744694e-01  9.41480149e-01  9.41463406e-01 -6.80250871e-02]\n",
      " [ 9.31879013e-01  9.50990050e-01  9.50957599e-01 -5.85317865e-02]\n",
      " [ 9.41411140e-01  9.60596010e-01  9.60129079e-01 -4.90967471e-02]\n",
      " [ 9.49799525e-01  9.70299000e-01  9.64694421e-01 -4.05354845e-02]\n",
      " [ 9.44503250e-01  9.80100000e-01 -3.68896489e-02 -3.06554353e-02]]\n"
     ]
    }
   ],
   "source": [
    "row = 4\n",
    "col = 6\n",
    "env = Cliff(row, col)\n",
    "\n",
    "state_n, action_n = env.env_info()\n",
    "\n",
    "Q = np.zeros([state_n, action_n])\n",
    "alpha = 0.1\n",
    "gamma = 0.99\n",
    "epsilon = 0.5\n",
    "pass_cnt = 0\n",
    "\n",
    "for i in range(1, 50001):\n",
    "    state = env.reset()\n",
    "    done = False\n",
    "    \n",
    "    tr = 0\n",
    "    \n",
    "    while not done:\n",
    "        tr += 1\n",
    "        if tr > 100:\n",
    "            break\n",
    "        \n",
    "        if random.uniform(0, 1) < epsilon:\n",
    "            action = random.choice([0, 1, 2, 3])\n",
    "        else:\n",
    "            action = np.argmax(Q[state])\n",
    "        \n",
    "        next_state, reward, done = env.step(action)\n",
    "            \n",
    "        if done:\n",
    "            if reward == 1:\n",
    "                pass_cnt += 1\n",
    "            Q[state, action] = (1 - alpha) * Q[state, action] + alpha * reward\n",
    "        else:\n",
    "            Q[state, action] = (1 - alpha) * Q[state, action] + alpha * (reward + gamma * np.max(Q[next_state]))\n",
    "        \n",
    "        state = next_state\n",
    "        \n",
    "    if i % 100 == 0:\n",
    "        clear_output(wait=True)\n",
    "        print('Episode: {}, Goal: {}'.format(i, pass_cnt))\n",
    "\n",
    "print('Q function')\n",
    "print(Q)       "
   ]
  },
  {
   "cell_type": "code",
   "execution_count": 6,
   "id": "1f86bcfd",
   "metadata": {},
   "outputs": [
    {
     "name": "stdout",
     "output_type": "stream",
     "text": [
      "Down\tDown\tDown\tDown\tDown\tDown\t\n",
      "Down\tDown\tDown\tDown\tDown\tDown\t\n",
      "Right\tRight\tRight\tRight\tRight\tDown\t\n",
      "Up\tLeft\tLeft\tLeft\tLeft\tLeft\t\n"
     ]
    }
   ],
   "source": [
    "dic = {0:'Left', 1:'Down', 2:'Right', 3:'Up'}\n",
    "for i in range(row - 1, -1, -1):\n",
    "    for j in range(col):\n",
    "        #print(i*col + j, end='\\t')\n",
    "        print(dic[np.argmax(Q[i*col + j])], end=\"\\t\")\n",
    "    print()"
   ]
  }
 ],
 "metadata": {
  "jupytext": {
   "encoding": "# -*- coding: utf-8 -*-",
   "formats": "ipynb,py:light"
  },
  "kernelspec": {
   "display_name": "Python 3",
   "language": "python",
   "name": "python3"
  },
  "language_info": {
   "codemirror_mode": {
    "name": "ipython",
    "version": 3
   },
   "file_extension": ".py",
   "mimetype": "text/x-python",
   "name": "python",
   "nbconvert_exporter": "python",
   "pygments_lexer": "ipython3",
   "version": "3.8.8"
  }
 },
 "nbformat": 4,
 "nbformat_minor": 5
}
