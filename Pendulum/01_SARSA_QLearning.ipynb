{
 "cells": [
  {
   "cell_type": "markdown",
   "id": "ac220800",
   "metadata": {},
   "source": [
    "# Pendulum 환경에서 SRASA와 Q-Learning을 통해 최적의 policy 찾기\n",
    "\n",
    "Pendulum openai gym: https://github.com/openai/gym/blob/master/gym/envs/classic_control/pendulum.py\n",
    "\n",
    "agent는 진자운동이 가능한 막대로 주어진다. Agent의 목적은 막대를 위로 세우고, 밸런스를 유지해야 하는 것이다. CartPole Env과 같이 state는 연속적인 값으로 주어지며, pendulum에서는 action 또한 continuous value로 주어야 한다.    \n",
    "\n",
    "Observation matrix는 아래와 같다.\n",
    "\n",
    "|Num|Observation|Min|Max|\n",
    "|---|---|---|---|\n",
    "|0|cos(theta)|-1.0|1.0|\n",
    "|1|sin(theta)|-1.0|1.0|\n",
    "|2|theta dot|-8.0|8.0|\n",
    "\n",
    "Action은 Joint effort를 -2에서 2까지의 값으로 줄 수 있다. (swing left, swing right)"
   ]
  },
  {
   "cell_type": "markdown",
   "id": "73420bb8",
   "metadata": {},
   "source": [
    "## Library Import"
   ]
  },
  {
   "cell_type": "code",
   "execution_count": 1,
   "id": "628ac197",
   "metadata": {},
   "outputs": [],
   "source": [
    "import gym\n",
    "import numpy as np\n",
    "import random\n",
    "import time\n",
    "from IPython.display import clear_output\n",
    "import matplotlib.pyplot as plt"
   ]
  },
  {
   "cell_type": "markdown",
   "id": "7f62071d",
   "metadata": {},
   "source": [
    "## Env 살펴보기"
   ]
  },
  {
   "cell_type": "code",
   "execution_count": 2,
   "id": "f6f935ff",
   "metadata": {},
   "outputs": [
    {
     "name": "stdout",
     "output_type": "stream",
     "text": [
      "[-0.9999096   0.01344864 -0.5887314 ] [1.2765923] -9.830054854484493\n",
      "[-0.9993168   0.03695822 -0.47035185] [0.7219538] -9.820464122415501\n",
      "[-0.9980914   0.06175365 -0.49652666] [-0.35928985] -9.660954881669403\n",
      "[-0.99521667  0.09769244 -0.72111076] [-1.8059958] -9.513081589731705\n",
      "[-0.9903358   0.13869008 -0.8258017 ] [-1.1864014] -9.3177860460192\n",
      "[-0.9821498   0.18810055 -1.0017843 ] [-1.866668] -9.08640968239969\n",
      "[-0.97443676  0.22466199 -0.7473668 ] [0.75561416] -8.817386321503172\n",
      "[-0.9668774   0.25524122 -0.6300206 ] [-0.34100237] -8.553176637707763\n",
      "[-0.9637853   0.26667947 -0.23697793] [1.3440785] -8.356045314420912\n",
      "[-0.9667786  0.2556152  0.2292418] [1.7747343] -8.255119619343281\n",
      "[-0.97283345  0.23150605  0.49716946] [0.50810856] -8.317828960619579\n",
      "[-0.98051715  0.19643341  0.71812755] [0.31552354] -8.481090217302786\n",
      "[-0.9863758   0.16450767  0.6492053 ] [-1.4416485] -8.720040380998563\n",
      "[-0.9924061   0.12300472  0.83883667] [0.44167066] -8.900904651806258\n",
      "[-0.9968696   0.07906316  0.8834253 ] [-0.3177664] -9.180453412930905\n",
      "[-0.99975353  0.02220117  1.1388555 ] [1.3075519] -9.458334647146636\n",
      "[-0.99975204 -0.0222687   0.88947064] [-1.773571] -9.863436559350237\n",
      "[-0.9971353  -0.07563866  1.0688087 ] [1.3069304] -9.81099433915369\n",
      "[-0.99188477 -0.12713991  1.0354795 ] [0.15599889] -9.513890027216199\n",
      "[-0.98409593 -0.17763789  1.0220138 ] [0.54592794] -9.192365085464116\n",
      "[-0.9720848  -0.23462966  1.1650388 ] [1.8416896] -8.88725361865884\n",
      "[-0.9607941  -0.277263    0.88213307] [-0.7128902] -8.5738418061754\n",
      "[-0.94875455 -0.31601393  0.8116184 ] [0.91621715] -8.26196472784412\n",
      "[-0.94183236 -0.33608305  0.42459568] [-1.0000817] -8.019653334976448\n",
      "[-0.9364449  -0.3508148   0.31372258] [0.9412612] -7.852406709738889\n",
      "[-0.9400364  -0.34107414 -0.20763461] [-1.7216406] -7.75873901640367\n",
      "[-0.9433903  -0.33168468 -0.19941092] [1.7601954] -7.8112379267568715\n",
      "[-0.95285106 -0.30343845 -0.595792  ] [-0.98411715] -7.864578900930047\n",
      "[-0.9659613  -0.25868663 -0.9327376 ] [-0.7291118] -8.063580296115328\n",
      "[-0.9806512 -0.1957632 -1.2925329] [-1.1052026] -8.38222023501239\n",
      "[-0.99128187 -0.13175823 -1.297864  ] [0.9432759] -8.838369828738067\n",
      "[-0.9979489  -0.06401576 -1.3616577 ] [0.23349912] -9.225290100191263\n",
      "[-0.99997425  0.00717564 -1.4247053 ] [-0.10023811] -9.65663113240337\n",
      "[-0.9960403   0.08890273 -1.6368912 ] [-1.4504514] -10.02965198457818\n",
      "[-0.9867326  0.1623539 -1.4811095] [0.5940313] -9.586492384825641\n",
      "[-0.9735954  0.2282806 -1.3447108] [0.09755532] -9.090941068104247\n",
      "[-0.95507026  0.2963794  -1.411764  ] [-1.5884247] -8.658907036922317\n",
      "[-0.9329177  0.3600896 -1.3492888] [-1.0653949] -8.269980518183717\n",
      "[-0.91444564  0.40470874 -0.9659277 ] [0.75529253] -7.873426065863496\n",
      "[-0.9049787   0.42545688 -0.4561274 ] [1.3751248] -7.520448878572329\n",
      "[-0.9028153   0.43002856 -0.10115429] [0.23920307] -7.322347216662008\n",
      "[-0.9071912   0.4207185   0.20574439] [-0.10415161] -7.275211261767605\n",
      "[-0.91300106  0.4079571   0.28043562] [-1.6056509] -7.336584875564379\n",
      "[-0.9293215   0.36927164  0.83980525] [1.6893451] -7.4166124868277725\n",
      "[-0.95269275  0.3039351   1.3880931 ] [1.8088948] -7.709999433598519\n",
      "[-0.97691    0.2136513  1.8701886] [1.6942943] -8.220149108695615\n",
      "[-0.99394804  0.10985108  2.1047566 ] [0.49552906] -8.913130173929876\n",
      "[-0.9999736  -0.00727085  2.3468826 ] [1.0649192] -9.634244123738252\n",
      "[-0.9921384  -0.12514569  2.3640752 ] [0.15097086] -10.374781381432653\n",
      "[-0.9741107  -0.22607154  2.0513647 ] [-1.4590081] -9.657981513371272\n",
      "[-0.9475985  -0.31946373  1.9424119 ] [0.40400544] -8.909745048171494\n",
      "[-0.922047   -0.38707796  1.4459378 ] [-1.7125084] -8.31250223945194\n",
      "[-0.8919545  -0.45212525  1.433724  ] [1.8539644] -7.742772673325395\n",
      "[-0.86211693 -0.5067094   1.2443409 ] [0.99807245] -7.348520560991817\n",
      "[-0.84522265 -0.53441435  0.6490209 ] [-1.4352528] -6.970193907322611\n",
      "[-0.83376837 -0.5521144   0.42166775] [1.1563839] -6.688399305713226\n",
      "[-0.8387707  -0.54448485 -0.18246447] [-1.2669762] -6.556072784268461\n",
      "[-0.85482675 -0.5189135  -0.60390747] [-0.08719556] -6.586757940610633\n",
      "[-0.8738418  -0.4862103  -0.75663674] [1.5763723] -6.778239791581688\n",
      "[-0.90233284 -0.43103993 -1.2420535 ] [-0.80506] -6.995037610141615\n",
      "[-0.935726  -0.3527278 -1.7032058] [-0.91914904] -7.423248464137507\n",
      "[-0.9658289  -0.25918043 -1.966223  ] [0.01019125] -8.024652689931928\n",
      "[-0.9898582  -0.14205883 -2.39265   ] [-1.5469444] -8.680050809989003\n",
      "[-0.99968594 -0.02505921 -2.349584  ] [0.9974002] -9.567782802610179\n",
      "[-0.9956095   0.09360399 -2.376061  ] [-0.05121725] -10.26482149180144\n",
      "[-0.9802402   0.19781077 -2.1076567 ] [1.3213415] -9.855710898386874\n",
      "[-0.95273495  0.30380285 -2.1911516 ] [-1.545686] -9.10473229156723\n",
      "[-0.92016363  0.391534   -1.872329  ] [0.60646945] -8.505867160670958\n",
      "[-0.881365    0.47243598 -1.7950906 ] [-1.4427466] -7.856377826678566\n",
      "[-0.8513987  0.5245191 -1.2019507] [1.5920856] -7.344832144454565\n",
      "[-0.8230017   0.56803894 -1.039418  ] [-1.5390435] -6.852049667702254\n",
      "[-0.81016     0.5862089  -0.44500703] [1.1225449] -6.548061207973306\n",
      "[-0.80697614  0.5905841  -0.10822058] [-0.68580145] -6.3466113949995675\n",
      "[-0.821181    0.57066786  0.48927048] [1.0303533] -6.301380154132493\n",
      "[-0.85050714  0.5259635   1.0694268 ] [1.0143694] -6.447510930280563\n",
      "[-0.8934217  0.4492189  1.7591339] [1.9682299] -6.814665918293572\n",
      "[-0.93355536  0.35843325  1.9860357 ] [-0.7334157] -7.469373110411569\n",
      "[-0.96446776  0.26420048  1.9842845 ] [-1.8038405] -8.098332401526394\n",
      "[-0.98942256  0.14506197  2.435985  ] [1.690335] -8.657723669259376\n",
      "[-0.9999277   0.01202371  2.6710322 ] [0.84167] -9.570228957380147\n",
      "[-0.9935299  -0.11357048  2.516801  ] [-1.0883261] -10.508825717508827\n",
      "[-0.9699083  -0.24347043  2.6425261 ] [1.4060192] -9.802836751517416\n",
      "[-0.92860097 -0.3710799   2.6845865 ] [1.4977548] -9.0853282909942\n",
      "[-0.8712991  -0.49075237  2.6556275 ] [1.6623397] -8.348909602694974\n",
      "[-0.8046054  -0.59380984  2.4566524 ] [1.1272622] -7.616252596403092\n",
      "[-0.74535394 -0.66666895  1.8789009 ] [-0.88262844] -6.883361790979918\n",
      "[-0.6943582 -0.7196295  1.4707586] [0.6123962] -6.170479855216139\n",
      "[-0.65229565 -0.7579647   1.1383699 ] [1.3822232] -5.685982767780891\n",
      "[-0.6311184  -0.7756865   0.55229926] [-0.11731437] -5.334413463808606\n",
      "[-0.62437385 -0.78112566  0.17329083] [1.3517096] -5.111902393612622\n",
      "[-0.6341635  -0.77319896 -0.2519305 ] [1.0708194] -5.044740404220712\n",
      "[-0.66158074 -0.74987394 -0.71997285] [0.7457124] -5.104214009936813\n",
      "[-0.70738685 -0.7068266  -1.2573893 ] [0.16659355] -5.3130206685548185\n",
      "[-0.7771212  -0.62935096 -2.0856848 ] [-1.9878366] -5.715573702617542\n",
      "[-0.8499371  -0.52688414 -2.5157473 ] [0.2796711] -6.490991428303876\n",
      "[-0.91657305 -0.39986724 -2.8711681 ] [0.26494798] -7.323790170313988\n",
      "[-0.9676218  -0.25240445 -3.124153  ] [0.3127724] -8.278563303860983\n",
      "[-0.99507725 -0.09910252 -3.117978  ] [1.3031867] -9.30919961914051\n",
      "[-0.9986602   0.05174717 -3.020715  ] [1.1439338] -10.229242104486554\n",
      "[-0.97711474  0.21271291 -3.2516057 ] [-1.7980077] -10.462706965379153\n",
      "[-0.92942     0.36902365 -3.2721543 ] [-1.2005559] -9.627481508350906\n",
      "[-0.86088705  0.5087961  -3.11655   ] [-0.8077548] -8.709026792733788\n",
      "[-0.7777487  0.6285753 -2.9186854] [-1.2248846] -7.773445307574238\n",
      "[-0.700536  0.713617 -2.298558] [0.99130744] -6.913671829034391\n",
      "[-0.6279273  0.778272  -1.9452243] [-1.2125276] -6.0379564343802485\n",
      "[-0.58483744  0.81115055 -1.0841504 ] [1.8491322] -5.442884764565797\n",
      "[-0.55737656  0.8302598  -0.66913855] [-1.2890067] -4.939314399355415\n",
      "[-0.55399853  0.8325176  -0.08126309] [-0.23212907] -4.719154765398494\n",
      "[-0.58125716  0.8137199   0.6622653 ] [0.7942678] -4.658064743248359\n",
      "[-0.6409814  0.7675564  1.5100665] [1.583408] -4.847150648662335\n",
      "[-0.7248545   0.68890196  2.300942  ] [1.4347211] -5.367439177335042\n",
      "[-0.8168721  0.5768188  2.902883 ] [0.5684315] -6.201868187254948\n",
      "[-0.90181667  0.43211883  3.3597596 ] [0.16174889] -7.227234052008896\n",
      "[-0.9625242  0.2711958  3.4441156] [-1.5982203] -8.393039402554074\n",
      "[-0.99535465  0.0962764   3.5641885 ] [-0.5554932] -9.40594695834019\n",
      "[-0.9968329  -0.07952478  3.5206919 ] [-0.7713595] -10.543980400657901\n",
      "[-0.9677424  -0.25194174  3.5015473 ] [0.26999265] -10.61534493775208\n",
      "[-0.9081912 -0.4185556  3.5433621] [1.5384752] -9.562679083190446\n",
      "[-0.83312315 -0.5530876   3.084228  ] [-0.96811616] -8.599160714112163\n",
      "[-0.7491378 -0.6624142  2.759422 ] [0.6000639] -7.482324313238065\n",
      "[-0.6775117  -0.73551196  2.047705  ] [-1.4327102] -6.608069886128022\n",
      "[-0.62313205 -0.78211665  1.4326676 ] [-0.42268845] -5.779503088647684\n",
      "[-0.5820589  -0.81314665  1.02965   ] [1.2237991] -5.240210597674998\n"
     ]
    },
    {
     "name": "stdout",
     "output_type": "stream",
     "text": [
      "[-0.5675507  -0.82333845  0.35460898] [-0.43453988] -4.911310653747896\n",
      "[-0.57752836 -0.8163706  -0.24339764] [0.1299815] -4.740277719251632\n",
      "[-0.60643977 -0.7951294  -0.7175508 ] [0.920832] -4.78752889029291\n",
      "[-0.6607317 -0.7506222 -1.4043543] [-0.60304296] -4.990787559739312\n",
      "[-0.72267205 -0.6911911  -1.7173463 ] [1.6664973] -5.455964558125612\n",
      "[-0.80419827 -0.5943611  -2.5332985 ] [-1.9837254] -5.9559194604339165\n",
      "[-0.87832   -0.4780732 -2.7602265] [1.4589527] -6.919523191075673\n",
      "[-0.9400302  -0.34109116 -3.007645  ] [0.74091005] -7.74858589439565\n",
      "[-0.9832598  -0.18220907 -3.2968953 ] [-0.22287993] -8.70836970840774\n",
      "[-0.999825   -0.01870772 -3.2904773 ] [0.953832] -9.839755361464665\n",
      "[-0.9896724   0.14334764 -3.2510395 ] [0.3564563] -10.835254566107814\n",
      "[-0.9533143  0.3019798 -3.2585118] [-0.7665526] -10.044015411335621\n",
      "[-0.89075184  0.45448998 -3.3006163 ] [-1.7905966] -9.101222654749126\n",
      "[-0.8204175  0.5717649 -2.7371175] [1.4842094] -8.219404821346272\n",
      "[-0.7538858  0.6570055 -2.1636858] [0.96405375] -7.165881518486879\n",
      "[-0.701194    0.71297055 -1.5377165 ] [0.88810056] -6.348369078590804\n",
      "[-0.66879195  0.7434496  -0.88976216] [0.75484306] -5.749506935222557\n",
      "[-0.6671945   0.74488354 -0.04293221] [1.9282849] -5.388440750824526\n",
      "[-0.68878466  0.724966    0.5875044 ] [0.47849292] -5.2960837648820345\n",
      "[-0.7220917  0.6917974  0.9401971] [-1.273545] -5.4678698626410105\n",
      "[-0.7762852  0.6303819  1.6386032] [1.1970539] -5.742894795506491\n",
      "[-0.84465045  0.53531826  2.3432112 ] [1.5454772] -6.320265068290138\n",
      "[-0.90664905  0.42188564  2.5872076 ] [-1.0499488] -7.189591336515568\n",
      "[-0.961259    0.27564672  3.1252332 ] [1.4774092] -7.99435410290849\n",
      "[-0.9933975   0.11472342  3.285717  ] [-0.30834094] -9.16973760895038\n",
      "[-0.9983546  -0.05734178  3.4469967 ] [0.5015796] -10.24025012361974\n",
      "[-0.9744344  -0.22467229  3.384669  ] [-0.12880753] -10.700604461271583\n",
      "[-0.93118095 -0.3645573   2.9310124 ] [-1.9010165] -9.646355438349813\n",
      "[-0.8702408  -0.49262655  2.8389606 ] [1.2091078] -8.52477947983484\n",
      "[-0.79913425 -0.6011526   2.596745  ] [0.8483615] -7.705124965828164\n",
      "[-0.7344482  -0.67866474  2.0200086 ] [-0.8391463] -6.908274050092613\n",
      "[-0.67008436 -0.74228495  1.8106174 ] [1.9973831] -6.151170088249658\n",
      "[-0.61979675 -0.7847624   1.3167748 ] [0.41914013] -5.641581663731458\n",
      "[-0.6003747  -0.79971886  0.4902825 ] [-1.5861367] -5.190280342123342\n",
      "[-0.5990464  -0.8007143   0.03319819] [0.9513655] -4.930130677257795\n",
      "[-0.6275817  -0.7785507  -0.72267056] [-1.0355536] -4.899020604041004\n",
      "[-0.6734109 -0.7392684 -1.2073971] [0.66124356] -5.111740830057445\n",
      "[-0.74480957 -0.6672771  -2.0287278 ] [-1.7791957] -5.48324165389599\n",
      "[-0.83062565 -0.5568312  -2.7996192 ] [-1.8028914] -6.227965575314297\n",
      "[-0.90940696 -0.41590747 -3.23251   ] [-0.10178236] -7.291534364347786\n",
      "[-0.96925586 -0.24605511 -3.6066468 ] [-0.4147078] -8.40356602387539\n",
      "[-0.9989174  -0.04651879 -4.0414505 ] [-1.668417] -9.672933252391553\n",
      "[-0.9880318   0.15425041 -4.028086  ] [0.32168907] -11.212814098600113\n",
      "[-0.9369028   0.34958997 -4.045294  ] [-0.88596815] -10.543852694803652\n",
      "[-0.85888284  0.5121721  -3.6115692 ] [1.143547] -9.39096108436003\n",
      "[-0.7614386   0.64823705 -3.351099  ] [-0.82439196] -8.085217909776514\n",
      "[-0.65031654  0.75966334 -3.1505687 ] [-1.9043161] -7.0622963281594835\n",
      "[-0.5551996   0.83171713 -2.3879623 ] [1.2857255] -6.187178863159697\n",
      "[-0.49141496  0.87092555 -1.4977856 ] [1.7759261] -5.236395505802834\n",
      "[-0.45915154  0.88835794 -0.73347616] [0.7407677] -4.570066794890638\n",
      "[-0.463371    0.88616437  0.09511229] [1.0821333] -4.248602780831648\n",
      "[-0.48533687  0.87432724  0.49905908] [-1.7378433] -4.217057824365979\n",
      "[-0.5466501   0.83736116  1.4322003 ] [1.8493055] -4.344518125008281\n",
      "[-0.63173896  0.7751812   2.1087205 ] [0.32332912] -4.824090541763706\n",
      "[-0.7308382  0.6825507  2.7150946] [0.16658752] -5.527877648102937\n",
      "[-0.822953    0.56810945  2.9408078 ] [-1.9079994] -6.454566045533151\n",
      "[-0.90857077  0.41773093  3.4652057 ] [0.6554394] -7.303591866273602\n",
      "[-0.969414    0.24543123  3.6596391 ] [-0.79243195] -8.548995808892936\n",
      "[-0.9987085   0.05080671  3.942718  ] [0.66003716] -9.712815359715362\n",
      "[-0.99026895 -0.13916692  3.808974  ] [-1.1456614] -11.108637586320196\n",
      "[-0.9496998  -0.31316176  3.578007  ] [-0.8439449] -10.4633797003418\n",
      "[-0.8897296 -0.4564879  3.1104667] [-1.5511262] -9.252356075807777\n",
      "[-0.82380694 -0.56687045  2.5731642 ] [-1.2995768] -8.085006193909022\n",
      "[-0.7593464  -0.65068656  2.115724  ] [-0.2152493] -7.108129534567022\n",
      "[-0.695711  -0.7183218  1.8579777] [1.5351236] -6.369982698723125\n",
      "[-0.6566258  -0.75421655  1.0614609 ] [-1.7185034] -5.82472345241812\n",
      "[-0.62623197 -0.77963674  0.79250896] [1.97807] -5.347557850506756\n",
      "[-0.62400997 -0.7814164   0.05693696] [-1.0056294] -5.115106387452295\n",
      "[-0.65573645 -0.7549899  -0.8258744 ] [-1.9783272] -5.042737495860093\n",
      "[-0.7171364  -0.69693285 -1.6905416 ] [-1.9894985] -5.297750408386854\n",
      "[-0.7856662 -0.6186506 -2.0817513] [0.8765991] -5.905741818838147\n",
      "[-0.8564696 -0.5161975 -2.4923768] [0.35575065] -6.55698518041414\n",
      "[-0.92336756 -0.3839171  -2.9674094 ] [-0.585896] -7.377312785648477\n",
      "[-0.976536   -0.21535435 -3.5396013 ] [-1.8950285] -8.43321731515866\n",
      "[-0.9989877  -0.04498502 -3.4410896 ] [1.7335163] -9.808805174395632\n",
      "[-0.99180144  0.12778863 -3.462784  ] [0.08029521] -10.773001067605856\n",
      "[-0.9538068   0.30042064 -3.5398927 ] [-1.153] -10.281319717638727\n"
     ]
    }
   ],
   "source": [
    "env = gym.make('Pendulum-v1')\n",
    "state = env.reset()\n",
    "    \n",
    "for j in range(200):\n",
    "    time.sleep(1/50)\n",
    "    env.render()\n",
    "    action = env.action_space.sample()\n",
    "    state, reward, done, info = env.step(action)\n",
    "    print(state, action, reward)\n",
    "    \n",
    "env.close()"
   ]
  },
  {
   "cell_type": "markdown",
   "id": "fe777bc7",
   "metadata": {},
   "source": [
    "## Discretize state and action\n",
    "\n",
    "**State 뿐만 아니라 Action 또한 continuous data로 구성되어 있다. SARSA와 Q-Learning을 사용하여 학습하기 위해서 이들을 discrete value로 변환해 주어야 한다.**"
   ]
  },
  {
   "cell_type": "code",
   "execution_count": 3,
   "id": "91481b0d",
   "metadata": {},
   "outputs": [
    {
     "name": "stdout",
     "output_type": "stream",
     "text": [
      "State bound:  [-1. -1. -8.] [1. 1. 8.]\n",
      "Action bound:  [-2.] [2.]\n"
     ]
    }
   ],
   "source": [
    "print('State bound: ', env.observation_space.low, env.observation_space.high)\n",
    "print('Action bound: ', env.action_space.low, env.action_space.high)"
   ]
  },
  {
   "cell_type": "markdown",
   "id": "a1b801eb",
   "metadata": {},
   "source": [
    "theta는 \\[-3.14, 3.14\\]의 범위를 갖는다. env에서 주어지는 state에서 sin, cos에 대한 역삼각함수를 통해 theta값을 구해서 사용하자.  \n",
    "(env.state를 통해서도 theta값을 바로 얻을 수 있음)"
   ]
  },
  {
   "cell_type": "code",
   "execution_count": 4,
   "id": "b42de8ca",
   "metadata": {},
   "outputs": [
    {
     "data": {
      "text/plain": [
       "[array([-3.14      , -3.01183673, -2.88367347, -2.7555102 , -2.62734694,\n",
       "        -2.49918367, -2.37102041, -2.24285714, -2.11469388, -1.98653061,\n",
       "        -1.85836735, -1.73020408, -1.60204082, -1.47387755, -1.34571429,\n",
       "        -1.21755102, -1.08938776, -0.96122449, -0.83306122, -0.70489796,\n",
       "        -0.57673469, -0.44857143, -0.32040816, -0.1922449 , -0.06408163,\n",
       "         0.06408163,  0.1922449 ,  0.32040816,  0.44857143,  0.57673469,\n",
       "         0.70489796,  0.83306122,  0.96122449,  1.08938776,  1.21755102,\n",
       "         1.34571429,  1.47387755,  1.60204082,  1.73020408,  1.85836735,\n",
       "         1.98653061,  2.11469388,  2.24285714,  2.37102041,  2.49918367,\n",
       "         2.62734694,  2.7555102 ,  2.88367347,  3.01183673,  3.14      ]),\n",
       " array([-8.        , -7.67346939, -7.34693878, -7.02040816, -6.69387755,\n",
       "        -6.36734694, -6.04081633, -5.71428571, -5.3877551 , -5.06122449,\n",
       "        -4.73469388, -4.40816327, -4.08163265, -3.75510204, -3.42857143,\n",
       "        -3.10204082, -2.7755102 , -2.44897959, -2.12244898, -1.79591837,\n",
       "        -1.46938776, -1.14285714, -0.81632653, -0.48979592, -0.16326531,\n",
       "         0.16326531,  0.48979592,  0.81632653,  1.14285714,  1.46938776,\n",
       "         1.79591837,  2.12244898,  2.44897959,  2.7755102 ,  3.10204082,\n",
       "         3.42857143,  3.75510204,  4.08163265,  4.40816327,  4.73469388,\n",
       "         5.06122449,  5.3877551 ,  5.71428571,  6.04081633,  6.36734694,\n",
       "         6.69387755,  7.02040816,  7.34693878,  7.67346939,  8.        ])]"
      ]
     },
     "execution_count": 4,
     "metadata": {},
     "output_type": "execute_result"
    }
   ],
   "source": [
    "state_bins = [50, 50]\n",
    "\n",
    "theta_space = np.linspace(-3.14, 3.14, state_bins[0])\n",
    "theta_dot_space = np.linspace(-8, 8, state_bins[1])\n",
    "\n",
    "state_list = [theta_space, theta_dot_space]\n",
    "state_list"
   ]
  },
  {
   "cell_type": "code",
   "execution_count": 5,
   "id": "fd383b69",
   "metadata": {},
   "outputs": [
    {
     "data": {
      "text/plain": [
       "array([-1.99, -1.78, -1.57, -1.36, -1.15, -0.94, -0.73, -0.52, -0.31,\n",
       "       -0.1 ,  0.11,  0.32,  0.53,  0.74,  0.95,  1.16,  1.37,  1.58,\n",
       "        1.79,  2.  ])"
      ]
     },
     "execution_count": 5,
     "metadata": {},
     "output_type": "execute_result"
    }
   ],
   "source": [
    "action_bins = 20\n",
    "\n",
    "action_space = np.linspace(-1.99, 2, action_bins)\n",
    "action_space"
   ]
  },
  {
   "cell_type": "code",
   "execution_count": 6,
   "id": "28090d50",
   "metadata": {},
   "outputs": [],
   "source": [
    "def discretize_state(state):\n",
    "    th = np.arccos(state[0])\n",
    "    th = int(min(state_bins[0] - 1, np.digitize(th, state_list[0])))\n",
    "    thdot = int(min(state_bins[1] - 1, np.digitize(state[2], state_list[0])))\n",
    "    return th, thdot\n",
    "\n",
    "def discretize_action(action):\n",
    "    bins = 20\n",
    "    action_space = np.linspace(-1.99, 2, bins)\n",
    "    \n",
    "    action += -1e-6\n",
    "    idx = int(min(bins - 1, np.digitize(action, action_space)))\n",
    "    ret = action_space[idx]\n",
    "    return ret, idx"
   ]
  },
  {
   "cell_type": "code",
   "execution_count": 7,
   "id": "3223eb10",
   "metadata": {},
   "outputs": [
    {
     "name": "stdout",
     "output_type": "stream",
     "text": [
      "[1.6786429] (1.7900000000000003, 18)\n"
     ]
    }
   ],
   "source": [
    "temp_action = env.action_space.sample()\n",
    "print(temp_action, discretize_action(temp_action))"
   ]
  },
  {
   "cell_type": "markdown",
   "id": "0cd6d26b",
   "metadata": {},
   "source": [
    "## Redner function\n"
   ]
  },
  {
   "cell_type": "code",
   "execution_count": 8,
   "id": "2a6f372c",
   "metadata": {},
   "outputs": [],
   "source": [
    "def test(Q):\n",
    "    state = env.reset()\n",
    "    done = False\n",
    "    env.render()\n",
    "    for i in range(200):\n",
    "        ds = discretize_state(state)\n",
    "        action_idx = np.argmax(Q[ds])\n",
    "        action = action_space[action_idx] - 1e-6\n",
    "        state, reward, done, info = env.step([action])\n",
    "        env.render()\n",
    "    env.close()"
   ]
  },
  {
   "cell_type": "markdown",
   "id": "ef50793c",
   "metadata": {},
   "source": [
    "## SARSA"
   ]
  },
  {
   "cell_type": "code",
   "execution_count": 51,
   "id": "481ce2e1",
   "metadata": {},
   "outputs": [
    {
     "name": "stdout",
     "output_type": "stream",
     "text": [
      "Episode: 500000\n",
      "Average reward -1119.594649815015\n",
      "학습 완료\n"
     ]
    }
   ],
   "source": [
    "env = gym.make('Pendulum-v1')\n",
    "\n",
    "Q_SARSA = np.zeros([state_bins[0], state_bins[1], action_bins])\n",
    "alpha = 0.1\n",
    "gamma = 0.99\n",
    "epsilon = 0.2\n",
    "\n",
    "all_reward = []\n",
    "epi_reward = 0\n",
    "\n",
    "for i in range(1, 500001):\n",
    "    state = env.reset()\n",
    "    ds = discretize_state(state)\n",
    "    \n",
    "    if random.uniform(0, 1) < epsilon:\n",
    "        action = env.action_space.sample()\n",
    "        action, action_idx = discretize_action(action)\n",
    "    else:\n",
    "        action_idx = np.argmax(Q[ds]) \n",
    "        action = action_space[action_idx] -1e-6\n",
    "    \n",
    "    tr = 0\n",
    "    done = False\n",
    "    \n",
    "    while not done:\n",
    "        tr += 1\n",
    "        \n",
    "        if tr > 200:\n",
    "            break\n",
    "        \n",
    "        next_state, reward, done, info = env.step([action])\n",
    "        nds = discretize_state(next_state)\n",
    "        \n",
    "        if random.uniform(0, 1) < epsilon:\n",
    "            next_action = env.action_space.sample()\n",
    "            next_action, next_action_idx = discretize_action(next_action)\n",
    "        else:\n",
    "            next_action_idx = np.argmax(Q[nds])\n",
    "            next_action = action_space[next_action_idx] -1e-6\n",
    "        \n",
    "        Q_SARSA[ds][action_idx] = (1 - alpha) * Q_SARSA[ds][action_idx] + alpha * (reward + gamma * Q_SARSA[nds][next_action_idx])\n",
    "        \n",
    "        action = next_action\n",
    "        action_idx = next_action_idx\n",
    "        ds = nds\n",
    "        \n",
    "        epi_reward += reward\n",
    "        \n",
    "        if done:\n",
    "            break\n",
    "    \n",
    "    if i % 100 == 0:\n",
    "        print('Episode:', i)\n",
    "    \n",
    "    if i % 1000 == 0:\n",
    "        clear_output(wait=True)\n",
    "        all_reward.append(epi_reward)\n",
    "        print('Episode:', i)\n",
    "        print('Average reward', epi_reward / 1000)\n",
    "        epi_reward = 0\n",
    "\n",
    "print('학습 완료')"
   ]
  },
  {
   "cell_type": "code",
   "execution_count": 52,
   "id": "74bc61e7",
   "metadata": {},
   "outputs": [
    {
     "data": {
      "text/plain": [
       "[<matplotlib.lines.Line2D at 0x20be4a04250>]"
      ]
     },
     "execution_count": 52,
     "metadata": {},
     "output_type": "execute_result"
    },
    {
     "data": {
      "image/png": "[encoded data removed]",
      "text/plain": [
       "<Figure size 432x288 with 1 Axes>"
      ]
     },
     "metadata": {
      "needs_background": "light"
     },
     "output_type": "display_data"
    }
   ],
   "source": [
    "x = np.linspace(1, 500001, 500)\n",
    "plt.plot(x, all_reward)"
   ]
  },
  {
   "cell_type": "code",
   "execution_count": 50,
   "id": "4bb9ab5c",
   "metadata": {},
   "outputs": [],
   "source": [
    "test(Q)"
   ]
  },
  {
   "cell_type": "markdown",
   "id": "a3fb4501",
   "metadata": {},
   "source": [
    "## Q-Learning"
   ]
  },
  {
   "cell_type": "code",
   "execution_count": 53,
   "id": "da0be39b",
   "metadata": {},
   "outputs": [
    {
     "name": "stdout",
     "output_type": "stream",
     "text": [
      "Episode: 100000\n",
      "Average reward -1103.8898868379065\n",
      "학습 완료\n"
     ]
    }
   ],
   "source": [
    "env = gym.make('Pendulum-v1')\n",
    "\n",
    "Q_table = np.zeros([state_bins[0], state_bins[1], action_bins])\n",
    "alpha = 0.1\n",
    "gamma = 0.99\n",
    "epsilon = 0.1\n",
    "\n",
    "all_reward_QL = []\n",
    "epi_reward = 0\n",
    "\n",
    "for i in range(1, 100001):\n",
    "    state = env.reset()\n",
    "    ds = discretize_state(state)\n",
    "    \n",
    "    done = False\n",
    "    \n",
    "    while not done:\n",
    "\n",
    "        if random.uniform(0, 1) < epsilon:\n",
    "            action = env.action_space.sample()\n",
    "            action, action_idx = discretize_action(action)\n",
    "        else:\n",
    "            action_idx = np.argmax(Q[ds]) \n",
    "            action = action_space[action_idx] -1e-6\n",
    "        \n",
    "        next_state, reward, done, info = env.step([action])\n",
    "        nds = discretize_state(next_state)\n",
    "        \n",
    "        Q_table[ds][action_idx] = (1 - alpha) * Q_table[ds][action_idx] + alpha * (reward + gamma * np.max(Q_table[nds]))\n",
    "        \n",
    "        state = next_state\n",
    "        ds = nds\n",
    "        \n",
    "        epi_reward += reward\n",
    "        \n",
    "        if done:\n",
    "            break\n",
    "    \n",
    "    if i % 100 == 0:\n",
    "        print('Episode:', i)\n",
    "    \n",
    "    if i % 1000 == 0:\n",
    "        clear_output(wait=True)\n",
    "        all_reward_QL.append(epi_reward)\n",
    "        print('Episode:', i)\n",
    "        print('Average reward', epi_reward / 1000)\n",
    "        epi_reward = 0\n",
    "\n",
    "print('학습 완료')"
   ]
  },
  {
   "cell_type": "code",
   "execution_count": 54,
   "id": "59d587f4",
   "metadata": {},
   "outputs": [
    {
     "data": {
      "text/plain": [
       "[<matplotlib.lines.Line2D at 0x20be4a5aeb0>]"
      ]
     },
     "execution_count": 54,
     "metadata": {},
     "output_type": "execute_result"
    },
    {
     "data": {
      "image/png": "[encoded data removed]",
      "text/plain": [
       "<Figure size 432x288 with 1 Axes>"
      ]
     },
     "metadata": {
      "needs_background": "light"
     },
     "output_type": "display_data"
    }
   ],
   "source": [
    "x = np.linspace(1, 100001, 100)\n",
    "plt.plot(x, all_reward_QL)"
   ]
  },
  {
   "cell_type": "code",
   "execution_count": null,
   "id": "4da5b0f8",
   "metadata": {},
   "outputs": [],
   "source": []
  }
 ],
 "metadata": {
  "jupytext": {
   "formats": "ipynb,auto:light"
  },
  "kernelspec": {
   "display_name": "Python 3",
   "language": "python",
   "name": "python3"
  },
  "language_info": {
   "codemirror_mode": {
    "name": "ipython",
    "version": 3
   },
   "file_extension": ".py",
   "mimetype": "text/x-python",
   "name": "python",
   "nbconvert_exporter": "python",
   "pygments_lexer": "ipython3",
   "version": "3.8.8"
  }
 },
 "nbformat": 4,
 "nbformat_minor": 5
}
