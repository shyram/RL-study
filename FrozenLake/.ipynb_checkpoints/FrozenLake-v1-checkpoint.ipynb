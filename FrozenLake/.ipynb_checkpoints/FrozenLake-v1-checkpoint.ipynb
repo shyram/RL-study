{
 "cells": [
  {
   "cell_type": "markdown",
   "id": "79405a77",
   "metadata": {},
   "source": [
    "# FrozenLake-v1 환경을 통한 RL 기초 코드 실습\n",
    "\n",
    "FrozenLake open-ai gym: https://gym.openai.com/envs/FrozenLake-v0/  \n",
    "\n",
    "[구현 source code](https://github.com/openai/gym/blob/master/gym/envs/toy_text/frozen_lake.py)  \n",
    "\n",
    "\n",
    "Agent는 빙판으로 가정된 grid world에서 움직인다. Starting point, Goal, Frozen sruface, Hole의 4가지 상황이 있는데, agent의 목적은 starting point에서 시작해 goal로 가는 것이다. 매 에피소드는 2가지 상황에서 종료되는데, goal에 도착했을 경우와 hole에 도착해서 물에 빠지는 경우이다. Hole을 제외한 타일은 빙판이므로, agent가 이동 방향을 결정했더라도 미끄러져 다른 방향으로 이동할 수도 있다. (Agent는 항상 의도한 방향으로 움직이는 것은 아니다)\n",
    "\n",
    "4x4, 8x8 map이 있으며 아래는 4x4 map의 예시이다.  \n",
    "\n",
    "```\n",
    "SFFF       (S: starting point, safe)  \n",
    "FHFH       (F: frozen surface, safe)  \n",
    "FFFH       (H: hole, fall to your doom)  \n",
    "HFFG       (G: goal, where the frisbee is located)  \n",
    "```\n",
    "\n",
    "State: 0 ~ 15 사이의 값으로 agent의 위치를 표현한다. (맨 왼쪽 맨 위부터 0으로 시작해 오른쪽으로 1, 2, 3.. 그 다음 라인은 4, 5, 6, 7 ..)  \n",
    "Action: 0 ~ 3 사이의 값으로 agent가 이동할 방향을 표현한다. (Left, Down, Right, Up)  \n",
    "Reward: Goal에 도착하면 1을 반환하며 다른 상태에서는 0을 반환한다.  \n",
    "Done: agnet가 Goal, Hole에 도착할 때 True를 반환하고 다른 타일에 있을 때는 False를 반환한다.  \n",
    "\n",
    "\n",
    "---\n"
   ]
  },
  {
   "cell_type": "markdown",
   "id": "a2a4c85a",
   "metadata": {},
   "source": [
    "## Library Import"
   ]
  },
  {
   "cell_type": "code",
   "execution_count": 1,
   "id": "f1265dea",
   "metadata": {},
   "outputs": [],
   "source": [
    "import gym\n",
    "import numpy as np"
   ]
  },
  {
   "cell_type": "markdown",
   "id": "570c6da9",
   "metadata": {},
   "source": [
    "## 환경 만들기\n",
    "\n",
    "\n",
    "- is_slippery: agent가 이동할 때 미끄러질 수 있는지 선택 (True 입력시 Transition probability = 0.33)\n",
    "\n",
    "`env.render()` 함수를 통해 현재 환경의 상황을 출력한다."
   ]
  },
  {
   "cell_type": "code",
   "execution_count": 2,
   "id": "6ed07f0d",
   "metadata": {},
   "outputs": [
    {
     "name": "stdout",
     "output_type": "stream",
     "text": [
      "\n",
      "\u001b[41mS\u001b[0mFFF\n",
      "FHFH\n",
      "FFFH\n",
      "HFFG\n"
     ]
    }
   ],
   "source": [
    "env = gym.make('FrozenLake-v1', is_slippery=False)\n",
    "\n",
    "env.render()"
   ]
  },
  {
   "cell_type": "markdown",
   "id": "c128918f",
   "metadata": {},
   "source": [
    "### 주요 함수\n",
    "\n",
    "`env.reset()` 함수를 통해 환경을 처음 상태로 초기화 할 수 있다.  \n",
    "\n",
    "`env.step(action)` action을 수행한 후, next state, reward, done, transition probability 정보를 반환한다.\n"
   ]
  },
  {
   "cell_type": "code",
   "execution_count": 3,
   "id": "b7c9b77c",
   "metadata": {
    "scrolled": true
   },
   "outputs": [
    {
     "name": "stdout",
     "output_type": "stream",
     "text": [
      "\n",
      "Agent가 움직이는 방향: Left\n",
      "new_state:0, reward:0.0, done:False, info:{'prob': 1.0}\n",
      "  (Left)\n",
      "\u001b[41mS\u001b[0mFFF\n",
      "FHFH\n",
      "FFFH\n",
      "HFFG\n",
      "\n",
      "Agent가 움직이는 방향: Down\n",
      "new_state:4, reward:0.0, done:False, info:{'prob': 1.0}\n",
      "  (Down)\n",
      "SFFF\n",
      "\u001b[41mF\u001b[0mHFH\n",
      "FFFH\n",
      "HFFG\n",
      "\n",
      "Agent가 움직이는 방향: Right\n",
      "new_state:1, reward:0.0, done:False, info:{'prob': 1.0}\n",
      "  (Right)\n",
      "S\u001b[41mF\u001b[0mFF\n",
      "FHFH\n",
      "FFFH\n",
      "HFFG\n",
      "\n",
      "Agent가 움직이는 방향: Up\n",
      "new_state:0, reward:0.0, done:False, info:{'prob': 1.0}\n",
      "  (Up)\n",
      "\u001b[41mS\u001b[0mFFF\n",
      "FHFH\n",
      "FFFH\n",
      "HFFG\n"
     ]
    }
   ],
   "source": [
    "direction = {0:'Left', 1:'Down', 2:'Right', 3:'Up'}\n",
    "\n",
    "for action in range(env.action_space.n): # env.action_space.n = action의 수\n",
    "    env.reset()\n",
    "    \n",
    "    print(\"\\nAgent가 움직이는 방향: {}\".format(direction[action]))\n",
    "    new_state, reward, done, info = env.step(action)\n",
    "    \n",
    "    print('new_state:{}, reward:{}, done:{}, info:{}'.format(new_state, reward, done, info))\n",
    "    env.render()"
   ]
  },
  {
   "cell_type": "markdown",
   "id": "03f31560",
   "metadata": {},
   "source": [
    "`env.P[state][action]` agent가 특정 state에서 특정 action을 수행한다고 했을 때, 상태가 나타날 확률"
   ]
  },
  {
   "cell_type": "code",
   "execution_count": 4,
   "id": "d09918d7",
   "metadata": {
    "scrolled": true
   },
   "outputs": [
    {
     "data": {
      "text/plain": [
       "{0: [(1.0, 5, 0.0, True)],\n",
       " 1: [(1.0, 10, 0.0, False)],\n",
       " 2: [(1.0, 7, 0.0, True)],\n",
       " 3: [(1.0, 2, 0.0, False)]}"
      ]
     },
     "execution_count": 4,
     "metadata": {},
     "output_type": "execute_result"
    }
   ],
   "source": [
    "# policy\n",
    "\n",
    "env = gym.make('FrozenLake-v1', is_slippery=False)\n",
    "\n",
    "env.P[6]"
   ]
  },
  {
   "cell_type": "code",
   "execution_count": 5,
   "id": "486ab002",
   "metadata": {
    "scrolled": true
   },
   "outputs": [
    {
     "data": {
      "text/plain": [
       "{0: [(0.3333333333333333, 2, 0.0, False),\n",
       "  (0.3333333333333333, 5, 0.0, True),\n",
       "  (0.3333333333333333, 10, 0.0, False)],\n",
       " 1: [(0.3333333333333333, 5, 0.0, True),\n",
       "  (0.3333333333333333, 10, 0.0, False),\n",
       "  (0.3333333333333333, 7, 0.0, True)],\n",
       " 2: [(0.3333333333333333, 10, 0.0, False),\n",
       "  (0.3333333333333333, 7, 0.0, True),\n",
       "  (0.3333333333333333, 2, 0.0, False)],\n",
       " 3: [(0.3333333333333333, 7, 0.0, True),\n",
       "  (0.3333333333333333, 2, 0.0, False),\n",
       "  (0.3333333333333333, 5, 0.0, True)]}"
      ]
     },
     "execution_count": 5,
     "metadata": {},
     "output_type": "execute_result"
    }
   ],
   "source": [
    "# policy\n",
    "\n",
    "env = gym.make('FrozenLake-v1', is_slippery=True)\n",
    "\n",
    "env.P[6]"
   ]
  },
  {
   "attachments": {
    "image.png": {
     "image/png": "[encoded data removed]"
    }
   },
   "cell_type": "markdown",
   "id": "ad7796f1",
   "metadata": {},
   "source": [
    "### Ex 1. Implement the **value iteration** for policy evaluation.  \n",
    "\n",
    "- uniformly random policy 사용\n",
    "- 초기값은 0을 사용\n",
    "- 가장 큰 value 값의 차이가 threshold(theta)보다 작은 경우 iteration 끝\n",
    "\n",
    "`env.nS` number of states  \n",
    "`env.nA` number of actions  \n",
    "\n",
    "![image.png](attachment:image.png)"
   ]
  },
  {
   "cell_type": "code",
   "execution_count": 6,
   "id": "97b8d90b",
   "metadata": {},
   "outputs": [
    {
     "name": "stdout",
     "output_type": "stream",
     "text": [
      "Value Function:\n",
      "[0.013911   0.01161424 0.02094062 0.01046758 0.01623478 0.\n",
      " 0.04074774 0.         0.03479961 0.08816698 0.14205099 0.\n",
      " 0.         0.17581855 0.4392897  0.        ]\n"
     ]
    }
   ],
   "source": [
    "env = gym.make('FrozenLake-v1', is_slippery=True)\n",
    "\n",
    "def policy_evaluation(policy, env, discount_factor=1.0, theta=0.00001):\n",
    "    V = np.zeros(env.nS)\n",
    "    \n",
    "    while True:\n",
    "        delta = 0\n",
    "        # 모든 state에 대해 탐색\n",
    "        for state in range(env.nS):\n",
    "            v = 0\n",
    "            \n",
    "            # 현재 state에서 수행하는 policy array - 각 action을 수행할 확률\n",
    "            for action, action_prob in enumerate(policy[state]):\n",
    "                \n",
    "                # 이전 시점을 기준으로 state, action을 선택\n",
    "                for  transition_prob, next_state, reward, done in env.P[state][action]:\n",
    "                    v = v + action_prob * transition_prob * (reward + discount_factor * V[next_state])\n",
    "                    \n",
    "            delta = max(delta, np.abs(v - V[state]))\n",
    "            V[state] = v\n",
    "            \n",
    "        if delta < theta:\n",
    "            break\n",
    "            \n",
    "    return np.array(V)\n",
    "\n",
    "# random policy: 모든 action선택에 대한 확률이 동일함\n",
    "random_policy = np.ones([env.nS, env.nA]) / env.nA\n",
    "\n",
    "v = policy_evaluation(random_policy, env)\n",
    "\n",
    "print(\"Value Function:\\n{}\".format(v))"
   ]
  },
  {
   "cell_type": "code",
   "execution_count": 7,
   "id": "60576d75",
   "metadata": {},
   "outputs": [
    {
     "data": {
      "text/plain": [
       "array([0.25, 0.25, 0.25, 0.25])"
      ]
     },
     "execution_count": 7,
     "metadata": {},
     "output_type": "execute_result"
    }
   ],
   "source": [
    "env = gym.make('FrozenLake-v1', is_slippery=False)\n",
    "\n",
    "random_policy[6]"
   ]
  },
  {
   "cell_type": "code",
   "execution_count": null,
   "id": "4036f057",
   "metadata": {},
   "outputs": [],
   "source": []
  },
  {
   "cell_type": "code",
   "execution_count": null,
   "id": "74bf430d",
   "metadata": {},
   "outputs": [],
   "source": []
  }
 ],
 "metadata": {
  "kernelspec": {
   "display_name": "Python 3",
   "language": "python",
   "name": "python3"
  },
  "language_info": {
   "codemirror_mode": {
    "name": "ipython",
    "version": 3
   },
   "file_extension": ".py",
   "mimetype": "text/x-python",
   "name": "python",
   "nbconvert_exporter": "python",
   "pygments_lexer": "ipython3",
   "version": "3.8.8"
  }
 },
 "nbformat": 4,
 "nbformat_minor": 5
}
