{
 "cells": [
  {
   "cell_type": "markdown",
   "id": "80f14ca4",
   "metadata": {},
   "source": [
    "# CartPole 환경에서 SARSA와 Q-Learning을 통해 최적의 Policy 찾기 \n",
    "\n",
    "CartPole openai gym: https://github.com/openai/gym/blob/master/gym/envs/classic_control/cartpole.py  \n",
    "\n",
    "Agnet는 막대를 세우기 위해 왼쪽, 오른쪽으로 움직인다. Observation으로는 BOX형태의 data가 주어지며 아래와 같다.  \n",
    "\n",
    "Type: Box(4)  \n",
    "\n",
    "|Num|Observation|Min| Max|  \n",
    "|------|---|---|---|\n",
    "|0|Cart Position|-4.8|4.8|  \n",
    "|1|Cart Velocity|-Inf|Inf|  \n",
    "|2|Pole Angle|-0.418 rad (-24 deg)|0.418 rad (24 deg)|  \n",
    "|3|Pole Angular Velocity|-Inf| Inf|  \n",
    "\n",
    "reward, episode termination 추가"
   ]
  },
  {
   "cell_type": "markdown",
   "id": "de224870",
   "metadata": {},
   "source": [
    "## Library Import"
   ]
  },
  {
   "cell_type": "code",
   "execution_count": 1,
   "id": "8864e7b5",
   "metadata": {},
   "outputs": [],
   "source": [
    "import gym\n",
    "import numpy as np\n",
    "import random\n",
    "import time\n",
    "from IPython.display import clear_output\n",
    "import matplotlib.pyplot as plt"
   ]
  },
  {
   "cell_type": "markdown",
   "id": "7b0362d6",
   "metadata": {},
   "source": [
    "## Env 살펴보기"
   ]
  },
  {
   "cell_type": "code",
   "execution_count": 2,
   "id": "87a2bf63",
   "metadata": {},
   "outputs": [
    {
     "name": "stderr",
     "output_type": "stream",
     "text": [
      "C:\\Users\\shyram\\anaconda3\\lib\\site-packages\\gym\\envs\\classic_control\\cartpole.py:150: UserWarning: \u001b[33mWARN: You are calling 'step()' even though this environment has already returned done = True. You should always call 'reset()' once you receive 'done = True' -- any further steps are undefined behavior.\u001b[0m\n",
      "  logger.warn(\n"
     ]
    }
   ],
   "source": [
    "env = gym.make('CartPole-v1')\n",
    "\n",
    "for i in range(10):\n",
    "    state = env.reset()\n",
    "    done = False\n",
    "    for t in range(50):\n",
    "        time.sleep(1/50)\n",
    "        env.render()\n",
    "        action = env.action_space.sample()\n",
    "        state, reward, done, info = env.step(action)\n",
    "        #if done:\n",
    "        #    break\n",
    "\n",
    "env.close()"
   ]
  },
  {
   "cell_type": "markdown",
   "id": "01e0b6c3",
   "metadata": {},
   "source": [
    "## Discretize state\n",
    "\n",
    "**FrozenLake과 다르게 state가 continuous하다. SARSA와 Q-Learning에서는 Q를 state와 action을 통해 정의하기 때문에 CartPole환경에서의 continuous state을 discrete state로 바꿀 수 있어야 한다.**\n",
    "\n",
    "|Num|Observation|Min| Max|  \n",
    "|------|---|---|---|\n",
    "|0|Cart Position|-4.8|4.8|  \n",
    "|1|Cart Velocity|-Inf|Inf|  \n",
    "|2|Pole Angle|-0.418 rad (-24 deg)|0.418 rad (24 deg)|  \n",
    "|3|Pole Angular Velocity|-Inf| Inf|  \n"
   ]
  },
  {
   "cell_type": "markdown",
   "id": "c13032d1",
   "metadata": {},
   "source": [
    "observation_space로 continuous state의 범위를 알 수 있다."
   ]
  },
  {
   "cell_type": "code",
   "execution_count": 3,
   "id": "45d671c1",
   "metadata": {},
   "outputs": [
    {
     "data": {
      "text/plain": [
       "Box([-4.8000002e+00 -3.4028235e+38 -4.1887903e-01 -3.4028235e+38], [4.8000002e+00 3.4028235e+38 4.1887903e-01 3.4028235e+38], (4,), float32)"
      ]
     },
     "execution_count": 3,
     "metadata": {},
     "output_type": "execute_result"
    }
   ],
   "source": [
    "env = gym.make('CartPole-v1')\n",
    "\n",
    "env.observation_space"
   ]
  },
  {
   "cell_type": "code",
   "execution_count": 4,
   "id": "5d3bb724",
   "metadata": {},
   "outputs": [
    {
     "name": "stdout",
     "output_type": "stream",
     "text": [
      "[4.8000002e+00 3.4028235e+38 4.1887903e-01 3.4028235e+38]\n",
      "[-4.8000002e+00 -3.4028235e+38 -4.1887903e-01 -3.4028235e+38]\n"
     ]
    }
   ],
   "source": [
    "print(env.observation_space.high)\n",
    "print(env.observation_space.low)"
   ]
  },
  {
   "cell_type": "markdown",
   "id": "95f3658d",
   "metadata": {},
   "source": [
    "`Cart Position`과 `Pole Angle`의 경우 어느정도 정해진 범위가 있으나, `Cart Velocity`, `Pole Angular Velocity`의 경우 너무 넓은 범위를 가지고 있어 어느 범위까지 이산화 해야 하는지 고민이 생긴다."
   ]
  },
  {
   "cell_type": "code",
   "execution_count": 5,
   "id": "ee247939",
   "metadata": {
    "scrolled": true
   },
   "outputs": [
    {
     "name": "stdout",
     "output_type": "stream",
     "text": [
      "[-0.04020017  0.19299696  0.00882844 -0.2679994 ]\n",
      "[-0.03634023 -0.00224987  0.00346845  0.02745495]\n",
      "[-0.03638523  0.19282217  0.00401755 -0.26413164]\n",
      "[-0.03252879  0.38788655 -0.00126508 -0.5555447 ]\n",
      "[-0.02477106  0.19278239 -0.01237597 -0.2632606 ]\n",
      "[-0.02091541  0.38807878 -0.01764118 -0.5598212 ]\n",
      "[-0.01315383  0.5834438  -0.02883761 -0.8580094 ]\n",
      "[-0.00148496  0.7789465  -0.0459978  -1.1596186 ]\n",
      "[ 0.01409397  0.9746366  -0.06919017 -1.4663619 ]\n",
      "[ 0.03358671  1.1705341  -0.0985174  -1.7798308 ]\n",
      "[ 0.05699739  1.3666171  -0.13411403 -2.1014464 ]\n",
      "[ 0.08432973  1.5628067  -0.17614295 -2.4323995 ]\n",
      "[ 0.11558586  1.3695816  -0.22479093 -2.1985652 ]\n",
      "[ 0.1429775   1.1772242  -0.26876223 -1.9828217 ]\n",
      "[ 0.16652198  0.9857431  -0.3084187  -1.7839795 ]\n",
      "[ 0.18623684  1.1827422  -0.34409827 -2.1547794 ]\n",
      "[ 0.20989169  1.3792542  -0.38719386 -2.5314484 ]\n",
      "[ 0.23747677  1.5749879  -0.43782282 -2.9143262 ]\n",
      "[ 0.26897654  1.3843668  -0.49610937 -2.7800114 ]\n",
      "[ 0.29666388  1.5786817  -0.5517096  -3.1762903 ]\n",
      "[ 0.3282375  1.388623  -0.6152354 -3.0875993]\n",
      "[ 0.35600996  1.5804607  -0.67698735 -3.4922745 ]\n",
      "[ 0.38761917  1.7696978  -0.74683285 -3.897705  ]\n",
      "[ 0.42301312  1.9556226  -0.82478696 -4.3020844 ]\n",
      "[ 0.46212557  2.1374562  -0.91082865 -4.7031183 ]\n",
      "[ 0.5048747  1.941195  -1.004891  -4.754893 ]\n",
      "[ 0.5436986  1.7442145 -1.0999888 -4.8446336]\n",
      "[ 0.5785829  1.5460026 -1.1968815 -4.9717817]\n",
      "[ 0.609503   1.7129648 -1.2963172 -5.3369455]\n",
      "[ 0.64376223  1.5086855  -1.4030561  -5.5368867 ]\n",
      "[ 0.67393595  1.3011938  -1.5137938  -5.7747974 ]\n",
      "[ 0.6999598  1.4535385 -1.6292897 -6.081339 ]\n",
      "[ 0.7290306  1.601048  -1.7509166 -6.361901 ]\n",
      "[ 0.76105154  1.7446259  -1.8781545  -6.612562  ]\n",
      "[ 0.7959441  1.5196623 -2.0104058 -6.9948754]\n",
      "[ 0.82633734  1.2896054  -2.1503034  -7.407785  ]\n",
      "[ 0.85212946  1.4263545  -2.298459   -7.541456  ]\n",
      "[ 0.88065654  1.5671746  -2.4492881  -7.6205006 ]\n",
      "[ 0.912      1.714688  -2.6016982 -7.637836 ]\n",
      "[ 0.9462938  1.8712039 -2.7544549 -7.587585 ]\n",
      "[ 0.98371786  1.6521474  -2.9062066  -8.002849  ]\n",
      "[ 1.0167608  1.4400449 -3.0662634 -8.3807955]\n",
      "[ 1.0455617  1.6288552 -3.2338796 -8.120509 ]\n",
      "[ 1.0781388  1.8310964 -3.3962896 -7.7913446]\n",
      "[ 1.1147608  1.6552099 -3.5521166 -7.972589 ]\n",
      "[ 1.1478649  1.4919864 -3.7115684 -8.079749 ]\n",
      "[ 1.1777047  1.7230684 -3.8731632 -7.6292763]\n",
      "[ 1.2121661  1.9556597 -4.0257487 -7.173257 ]\n",
      "[ 1.2512792  2.1865332 -4.169214  -6.7263427]\n",
      "[ 1.2950099  2.0432284 -4.303741  -6.585759 ]\n"
     ]
    }
   ],
   "source": [
    "env.reset()\n",
    "\n",
    "for t in range(50):\n",
    "    time.sleep(1/10)\n",
    "    env.render()\n",
    "    action = env.action_space.sample()\n",
    "    state, reward, done, info = env.step(action)\n",
    "    print(state)\n",
    "env.close()"
   ]
  },
  {
   "cell_type": "markdown",
   "id": "65e12ffb",
   "metadata": {},
   "source": [
    "4개의 각 변수에 대해 10칸씩 총 1000개의 discrete state로 변환하기 위한 코드  \n",
    "각 구간은 몇번의 랜덤 시뮬레이션 후 임의로 설정했다."
   ]
  },
  {
   "cell_type": "code",
   "execution_count": 3,
   "id": "8ec76314",
   "metadata": {},
   "outputs": [
    {
     "data": {
      "text/plain": [
       "[array([-1.        , -0.77777778, -0.55555556, -0.33333333, -0.11111111,\n",
       "         0.11111111,  0.33333333,  0.55555556,  0.77777778,  1.        ]),\n",
       " array([-4.        , -3.11111111, -2.22222222, -1.33333333, -0.44444444,\n",
       "         0.44444444,  1.33333333,  2.22222222,  3.11111111,  4.        ]),\n",
       " array([-0.2       , -0.15555556, -0.11111111, -0.06666667, -0.02222222,\n",
       "         0.02222222,  0.06666667,  0.11111111,  0.15555556,  0.2       ]),\n",
       " array([-4.        , -3.11111111, -2.22222222, -1.33333333, -0.44444444,\n",
       "         0.44444444,  1.33333333,  2.22222222,  3.11111111,  4.        ])]"
      ]
     },
     "execution_count": 3,
     "metadata": {},
     "output_type": "execute_result"
    }
   ],
   "source": [
    "bins = [10, 10, 10, 10]\n",
    "\n",
    "cartPosition_space = np.linspace(-1, 1, bins[0])\n",
    "cartVelocity_space = np.linspace(-4, 4, bins[1])\n",
    "polePosition_space = np.linspace(-0.2, 0.2, bins[2])\n",
    "poleVelocity_space = np.linspace(-4, 4, bins[3])\n",
    "\n",
    "space_list = [cartPosition_space, cartVelocity_space, polePosition_space, poleVelocity_space]\n",
    "space_list"
   ]
  },
  {
   "cell_type": "code",
   "execution_count": 4,
   "id": "909c49d7",
   "metadata": {},
   "outputs": [],
   "source": [
    "def discretize_state(state, space_list):\n",
    "    data = []\n",
    "    for i in range(4):\n",
    "        data.append(int(min(bins[i]-1, np.digitize(state[i], space_list[i]))))\n",
    "    return (data[0], data[1], data[2], data[3])"
   ]
  },
  {
   "cell_type": "markdown",
   "id": "121eeb97",
   "metadata": {},
   "source": [
    "## Render function"
   ]
  },
  {
   "cell_type": "code",
   "execution_count": 5,
   "id": "c88a0ea4",
   "metadata": {},
   "outputs": [],
   "source": [
    "def test(Q):\n",
    "    state = env.reset()\n",
    "    done = False\n",
    "    env.render()\n",
    "    for i in range(100):\n",
    "        ds = discretize_state(state, space_list)\n",
    "        action = np.argmax(Q[ds])\n",
    "        state, reward, done, info = env.step(action)\n",
    "        env.render()\n",
    "    env.close()"
   ]
  },
  {
   "cell_type": "code",
   "execution_count": 6,
   "id": "b8b71b0e",
   "metadata": {},
   "outputs": [],
   "source": [
    "def test2(Q):\n",
    "    state = env.reset()\n",
    "    done = False\n",
    "    env.render()\n",
    "\n",
    "    while not done:\n",
    "        ds = discretize_state(state, space_list)\n",
    "        action = np.argmax(Q[ds])\n",
    "        state, reward, done, info = env.step(action)\n",
    "        env.render()\n",
    "\n",
    "    env.close()"
   ]
  },
  {
   "cell_type": "markdown",
   "id": "9bbb310d",
   "metadata": {},
   "source": [
    "## Q-Learning"
   ]
  },
  {
   "cell_type": "code",
   "execution_count": 27,
   "id": "35290cd5",
   "metadata": {},
   "outputs": [
    {
     "name": "stdout",
     "output_type": "stream",
     "text": [
      "Episode: 20000\n",
      "sum of reward: 496171.0\n",
      "학습 완료\n"
     ]
    }
   ],
   "source": [
    "env = gym.make('CartPole-v1')\n",
    "\n",
    "Q = np.zeros([bins[0], bins[1], bins[2], bins[3], 2])\n",
    "alpha = 0.1\n",
    "gamma = 0.99\n",
    "epsilon = 0.5\n",
    "\n",
    "all_reward = []\n",
    "epi_reward = 0\n",
    "\n",
    "for i in range(1, 20001):\n",
    "    state = env.reset()\n",
    "    ds = discretize_state(state, space_list)\n",
    "    done = False\n",
    "    tr = 0\n",
    "    \n",
    "    epsilon -= (0.5 / 20000)\n",
    "    \n",
    "    while not done:\n",
    "        tr += 1\n",
    "        \n",
    "        if random.uniform(0, 1) < epsilon:\n",
    "            action = env.action_space.sample()\n",
    "        else:\n",
    "            action = np.argmax(Q[ds])\n",
    "        \n",
    "        next_state, reward, done, info = env.step(action)\n",
    "        nds = discretize_state(next_state, space_list)\n",
    "    \n",
    "        epi_reward += reward\n",
    "        \n",
    "        if done and tr < 300:\n",
    "            reward = -500\n",
    "        \n",
    "        Q[ds][action] = (1 - alpha) * Q[ds][action] + alpha * (reward + gamma * np.max(Q[nds]))\n",
    "        \n",
    "        state = next_state\n",
    "        ds = nds\n",
    "        \n",
    "    if i % 1000 == 0:\n",
    "        clear_output(wait=True)\n",
    "        print('Episode:', i)\n",
    "        print('sum of reward:', epi_reward)\n",
    "        #test(Q)\n",
    "        #test2(Q)\n",
    "        all_reward.append(epi_reward)\n",
    "        epi_reward = 0\n",
    "        \n",
    "print('학습 완료')"
   ]
  },
  {
   "cell_type": "code",
   "execution_count": 28,
   "id": "fc178502",
   "metadata": {},
   "outputs": [
    {
     "data": {
      "text/plain": [
       "[<matplotlib.lines.Line2D at 0x1ded53daa60>]"
      ]
     },
     "execution_count": 28,
     "metadata": {},
     "output_type": "execute_result"
    },
    {
     "data": {
      "image/png": "[encoded data removed]",
      "text/plain": [
       "<Figure size 432x288 with 1 Axes>"
      ]
     },
     "metadata": {
      "needs_background": "light"
     },
     "output_type": "display_data"
    }
   ],
   "source": [
    "x = np.linspace(1000, 20000, 20)\n",
    "\n",
    "plt.plot(x, np.array(all_reward)/1000)"
   ]
  },
  {
   "cell_type": "markdown",
   "id": "ebc4c6fe",
   "metadata": {},
   "source": [
    "## SARSA"
   ]
  },
  {
   "cell_type": "code",
   "execution_count": 15,
   "id": "1ea29b4d",
   "metadata": {},
   "outputs": [
    {
     "name": "stdout",
     "output_type": "stream",
     "text": [
      "Episode: 20000\n",
      "sum of reward 467557.0\n",
      "학습 완료\n"
     ]
    }
   ],
   "source": [
    "env = gym.make('CartPole-v1')\n",
    "\n",
    "Q = np.zeros([bins[0], bins[1], bins[2], bins[3], 2])\n",
    "alpha = 0.1\n",
    "gamma = 0.99\n",
    "epsilon = 0.1\n",
    "\n",
    "all_reward = []\n",
    "epi_reward = 0\n",
    "\n",
    "for i in range(1, 20001):\n",
    "    state = env.reset()\n",
    "    done = False\n",
    "    \n",
    "    ds = discretize_state(state, space_list)\n",
    "    \n",
    "    if random.uniform(0, 1) < epsilon:\n",
    "        action = env.action_space.sample()\n",
    "    else:\n",
    "        action = np.argmax(Q[ds])\n",
    "    \n",
    "    tr = 0\n",
    "    \n",
    "    while not done:\n",
    "        \n",
    "        tr += 1\n",
    "        \n",
    "        next_state, reward, done, info = env.step(action)\n",
    "        \n",
    "        dns = discretize_state(next_state, space_list)\n",
    "        \n",
    "        if random.uniform(0, 1) < epsilon:\n",
    "            next_action = env.action_space.sample()\n",
    "        else:\n",
    "            next_action = np.argmax(Q[dns])\n",
    "        \n",
    "        epi_reward += reward\n",
    "        \n",
    "        if done and tr < 300:\n",
    "            reward = -500\n",
    "        \n",
    "        Q[ds][action] = (1 - alpha) * Q[ds][action] + alpha * (reward + gamma * Q[dns][next_action])\n",
    "        \n",
    "        state = next_state\n",
    "        action = next_action\n",
    "        ds = dns\n",
    "        \n",
    "    if i % 1000 == 0:\n",
    "        clear_output(wait=True)\n",
    "        print('Episode:', i)\n",
    "        print('sum of reward', epi_reward)\n",
    "        #test(Q)\n",
    "        test2(Q)\n",
    "        all_reward.append(epi_reward)\n",
    "        epi_reward = 0\n",
    "        \n",
    "print('학습 완료')"
   ]
  },
  {
   "cell_type": "code",
   "execution_count": 16,
   "id": "f09a376d",
   "metadata": {
    "lines_to_next_cell": 0
   },
   "outputs": [
    {
     "data": {
      "text/plain": [
       "[<matplotlib.lines.Line2D at 0x1302df82550>]"
      ]
     },
     "execution_count": 16,
     "metadata": {},
     "output_type": "execute_result"
    },
    {
     "data": {
      "image/png": "[encoded data removed]",
      "text/plain": [
       "<Figure size 432x288 with 1 Axes>"
      ]
     },
     "metadata": {
      "needs_background": "light"
     },
     "output_type": "display_data"
    }
   ],
   "source": [
    "x = np.linspace(1000, 20000, 20)\n",
    "\n",
    "plt.plot(x, np.array(all_reward)/1000)"
   ]
  },
  {
   "cell_type": "code",
   "execution_count": null,
   "id": "bcb7e434",
   "metadata": {
    "lines_to_next_cell": 2
   },
   "outputs": [],
   "source": []
  }
 ],
 "metadata": {
  "jupytext": {
   "encoding": "# -*- coding: utf-8 -*-",
   "formats": "ipynb,py:light"
  },
  "kernelspec": {
   "display_name": "Python 3",
   "language": "python",
   "name": "python3"
  },
  "language_info": {
   "codemirror_mode": {
    "name": "ipython",
    "version": 3
   },
   "file_extension": ".py",
   "mimetype": "text/x-python",
   "name": "python",
   "nbconvert_exporter": "python",
   "pygments_lexer": "ipython3",
   "version": "3.8.8"
  }
 },
 "nbformat": 4,
 "nbformat_minor": 5
}
