{
 "cells": [
  {
   "cell_type": "markdown",
   "id": "80f14ca4",
   "metadata": {},
   "source": [
    "# CartPole 환경에서 SARSA와 Q-Learning을 통해 최적의 Policy 찾기 \n",
    "\n",
    "CartPole openai gym: https://github.com/openai/gym/blob/master/gym/envs/classic_control/cartpole.py  \n",
    "\n",
    "Agnet는 막대를 세우기 위해 왼쪽, 오른쪽으로 움직인다. Observation으로는 BOX형태의 data가 주어지며 아래와 같다.  \n",
    "\n",
    "Type: Box(4)  \n",
    "\n",
    "|Num|Observation|Min| Max|  \n",
    "|------|---|---|---|\n",
    "|0|Cart Position|-4.8|4.8|  \n",
    "|1|Cart Velocity|-Inf|Inf|  \n",
    "|2|Pole Angle|-0.418 rad (-24 deg)|0.418 rad (24 deg)|  \n",
    "|3|Pole Angular Velocity|-Inf| Inf|  \n",
    "\n",
    "reward, episode termination 추가"
   ]
  },
  {
   "cell_type": "markdown",
   "id": "de224870",
   "metadata": {},
   "source": [
    "## Library Import"
   ]
  },
  {
   "cell_type": "code",
   "execution_count": 1,
   "id": "8864e7b5",
   "metadata": {},
   "outputs": [],
   "source": [
    "import gym\n",
    "import numpy as np\n",
    "import random\n",
    "import time\n",
    "from IPython.display import clear_output\n",
    "import matplotlib.pyplot as plt"
   ]
  },
  {
   "cell_type": "markdown",
   "id": "7b0362d6",
   "metadata": {},
   "source": [
    "## Env 살펴보기"
   ]
  },
  {
   "cell_type": "code",
   "execution_count": 2,
   "id": "87a2bf63",
   "metadata": {},
   "outputs": [
    {
     "name": "stderr",
     "output_type": "stream",
     "text": [
      "C:\\Users\\shyram\\anaconda3\\lib\\site-packages\\gym\\envs\\classic_control\\cartpole.py:150: UserWarning: \u001b[33mWARN: You are calling 'step()' even though this environment has already returned done = True. You should always call 'reset()' once you receive 'done = True' -- any further steps are undefined behavior.\u001b[0m\n",
      "  logger.warn(\n"
     ]
    }
   ],
   "source": [
    "env = gym.make('CartPole-v1')\n",
    "\n",
    "for i in range(10):\n",
    "    state = env.reset()\n",
    "    done = False\n",
    "    for t in range(50):\n",
    "        time.sleep(1/50)\n",
    "        env.render()\n",
    "        action = env.action_space.sample()\n",
    "        state, reward, done, info = env.step(action)\n",
    "        #if done:\n",
    "        #    break\n",
    "\n",
    "env.close()"
   ]
  },
  {
   "cell_type": "markdown",
   "id": "01e0b6c3",
   "metadata": {},
   "source": [
    "## Discretize state\n",
    "\n",
    "**FrozenLake과 다르게 state가 continuous하다. SARSA와 Q-Learning에서는 Q를 state와 action을 통해 정의하기 때문에 CartPole환경에서의 continuous state을 discrete state로 바꿀 수 있어야 한다.**\n",
    "\n",
    "|Num|Observation|Min| Max|  \n",
    "|------|---|---|---|\n",
    "|0|Cart Position|-4.8|4.8|  \n",
    "|1|Cart Velocity|-Inf|Inf|  \n",
    "|2|Pole Angle|-0.418 rad (-24 deg)|0.418 rad (24 deg)|  \n",
    "|3|Pole Angular Velocity|-Inf| Inf|  \n"
   ]
  },
  {
   "cell_type": "markdown",
   "id": "c13032d1",
   "metadata": {},
   "source": [
    "observation_space로 continuous state의 범위를 알 수 있다."
   ]
  },
  {
   "cell_type": "code",
   "execution_count": 3,
   "id": "45d671c1",
   "metadata": {},
   "outputs": [
    {
     "data": {
      "text/plain": [
       "Box([-4.8000002e+00 -3.4028235e+38 -4.1887903e-01 -3.4028235e+38], [4.8000002e+00 3.4028235e+38 4.1887903e-01 3.4028235e+38], (4,), float32)"
      ]
     },
     "execution_count": 3,
     "metadata": {},
     "output_type": "execute_result"
    }
   ],
   "source": [
    "env = gym.make('CartPole-v1')\n",
    "\n",
    "env.observation_space"
   ]
  },
  {
   "cell_type": "code",
   "execution_count": 4,
   "id": "5d3bb724",
   "metadata": {},
   "outputs": [
    {
     "name": "stdout",
     "output_type": "stream",
     "text": [
      "[4.8000002e+00 3.4028235e+38 4.1887903e-01 3.4028235e+38]\n",
      "[-4.8000002e+00 -3.4028235e+38 -4.1887903e-01 -3.4028235e+38]\n"
     ]
    }
   ],
   "source": [
    "print(env.observation_space.high)\n",
    "print(env.observation_space.low)"
   ]
  },
  {
   "cell_type": "markdown",
   "id": "95f3658d",
   "metadata": {},
   "source": [
    "`Cart Position`과 `Pole Angle`의 경우 어느정도 정해진 범위가 있으나, `Cart Velocity`, `Pole Angular Velocity`의 경우 너무 넓은 범위를 가지고 있어 어느 범위까지 이산화 해야 하는지 고민이 생긴다."
   ]
  },
  {
   "cell_type": "code",
   "execution_count": 5,
   "id": "ee247939",
   "metadata": {
    "scrolled": true
   },
   "outputs": [
    {
     "name": "stdout",
     "output_type": "stream",
     "text": [
      "[ 0.00679664  0.15712276  0.02898159 -0.25822496]\n",
      "[ 0.00993909  0.35181922  0.02381708 -0.54162765]\n",
      "[ 0.01697548  0.5465985   0.01298453 -0.8267121 ]\n",
      "[ 0.02790745  0.7415405  -0.00354971 -1.1152831 ]\n",
      "[ 0.04273826  0.5464653  -0.02585537 -0.8237158 ]\n",
      "[ 0.05366756  0.35170642 -0.04232969 -0.5392757 ]\n",
      "[ 0.06070169  0.15720427 -0.0531152  -0.2602251 ]\n",
      "[ 0.06384578  0.35304266 -0.0583197  -0.56917685]\n",
      "[ 0.07090662  0.54893196 -0.06970324 -0.8796476 ]\n",
      "[ 0.08188527  0.7449282  -0.0872962  -1.1934042 ]\n",
      "[ 0.09678383  0.55103856 -0.11116428 -0.92930967]\n",
      "[ 0.1078046   0.3575785  -0.12975048 -0.6735258 ]\n",
      "[ 0.11495617  0.16447581 -0.14322099 -0.42434624]\n",
      "[ 0.11824569  0.36130533 -0.1517079  -0.75853074]\n",
      "[ 0.1254718   0.16856311 -0.16687852 -0.51716936]\n",
      "[ 0.12884305 -0.0238646  -0.17722191 -0.28137243]\n",
      "[ 0.12836577  0.17328413 -0.18284936 -0.62429464]\n",
      "[ 0.13183145 -0.01887781 -0.19533525 -0.3943155 ]\n",
      "[ 0.13145389  0.17840156 -0.20322156 -0.741671  ]\n",
      "[ 0.13502192  0.37566218 -0.21805498 -1.0908097 ]\n",
      "[ 0.14253516  0.57288665 -0.23987117 -1.4432423 ]\n",
      "[ 0.1539929   0.3813825  -0.26873603 -1.2340584 ]\n",
      "[ 0.16162054  0.57876295 -0.2934172  -1.5975631 ]\n",
      "[ 0.17319581  0.7759286  -0.32536846 -1.9657038 ]\n",
      "[ 0.18871439  0.972718   -0.36468253 -2.33938   ]\n",
      "[ 0.20816875  1.1688884  -0.41147014 -2.7191403 ]\n",
      "[ 0.2315465   0.97836864 -0.46585295 -2.574801  ]\n",
      "[ 0.2511139   0.78889424 -0.51734895 -2.4529357 ]\n",
      "[ 0.26689178  0.6004073  -0.5664077  -2.3526113 ]\n",
      "[ 0.2788999  0.4128337 -0.6134599 -2.2729514]\n",
      "[ 0.28715658  0.6070939  -0.6589189  -2.6804655 ]\n",
      "[ 0.29929847  0.4197611  -0.7125282  -2.6382976 ]\n",
      "[ 0.3076937   0.61154085 -0.7652942  -3.0481825 ]\n",
      "[ 0.3199245   0.80089885 -0.8262578  -3.4566922 ]\n",
      "[ 0.33594248  0.6118326  -0.8953917  -3.4807239 ]\n",
      "[ 0.34817913  0.42290398 -0.9650062  -3.5329964 ]\n",
      "[ 0.3566372  0.6056902 -1.0356661 -3.9308007]\n",
      "[ 0.36875102  0.414257   -1.1142821  -4.037267  ]\n",
      "[ 0.37703615  0.22187729 -1.1950275  -4.173952  ]\n",
      "[ 0.3814737   0.02810891 -1.2785065  -4.3407726 ]\n",
      "[ 0.38203588  0.19817433 -1.365322   -4.6958084 ]\n",
      "[ 3.8599935e-01 -1.1647323e-03 -1.4592382e+00 -4.9226170e+00]\n",
      "[ 0.38597608 -0.20356776 -1.5576905  -5.1809897 ]\n",
      "[ 0.38190472 -0.04597293 -1.6613103  -5.4780626 ]\n",
      "[ 0.38098526  0.10755839 -1.7708715  -5.7500424 ]\n",
      "[ 0.38313642 -0.10689796 -1.8858724  -6.1021104 ]\n",
      "[ 0.38099846  0.03975878 -2.0079145  -6.3134665 ]\n",
      "[ 0.38179365  0.1854021  -2.134184   -6.4873405 ]\n",
      "[ 0.38550168 -0.03916359 -2.2639308  -6.915798  ]\n",
      "[ 0.38471842  0.10669938 -2.4022467  -7.0021577 ]\n"
     ]
    }
   ],
   "source": [
    "env.reset()\n",
    "\n",
    "for t in range(50):\n",
    "    time.sleep(1/10)\n",
    "    env.render()\n",
    "    action = env.action_space.sample()\n",
    "    state, reward, done, info = env.step(action)\n",
    "    print(state)\n",
    "env.close()"
   ]
  },
  {
   "cell_type": "markdown",
   "id": "65e12ffb",
   "metadata": {},
   "source": [
    "4개의 각 변수에 대해 10칸씩 총 1000개의 discrete state로 변환하기 위한 코드  \n",
    "각 구간은 몇번의 랜덤 시뮬레이션 후 임의로 설정했다."
   ]
  },
  {
   "cell_type": "code",
   "execution_count": 6,
   "id": "8ec76314",
   "metadata": {},
   "outputs": [
    {
     "data": {
      "text/plain": [
       "[array([-1.        , -0.77777778, -0.55555556, -0.33333333, -0.11111111,\n",
       "         0.11111111,  0.33333333,  0.55555556,  0.77777778,  1.        ]),\n",
       " array([-4.        , -3.11111111, -2.22222222, -1.33333333, -0.44444444,\n",
       "         0.44444444,  1.33333333,  2.22222222,  3.11111111,  4.        ]),\n",
       " array([-0.2       , -0.15555556, -0.11111111, -0.06666667, -0.02222222,\n",
       "         0.02222222,  0.06666667,  0.11111111,  0.15555556,  0.2       ]),\n",
       " array([-4.        , -3.11111111, -2.22222222, -1.33333333, -0.44444444,\n",
       "         0.44444444,  1.33333333,  2.22222222,  3.11111111,  4.        ])]"
      ]
     },
     "execution_count": 6,
     "metadata": {},
     "output_type": "execute_result"
    }
   ],
   "source": [
    "bins = [10, 10, 10, 10]\n",
    "\n",
    "cartPosition_space = np.linspace(-1, 1, bins[0])\n",
    "cartVelocity_space = np.linspace(-4, 4, bins[1])\n",
    "polePosition_space = np.linspace(-0.2, 0.2, bins[2])\n",
    "poleVelocity_space = np.linspace(-4, 4, bins[3])\n",
    "\n",
    "space_list = [cartPosition_space, cartVelocity_space, polePosition_space, poleVelocity_space]\n",
    "space_list"
   ]
  },
  {
   "cell_type": "code",
   "execution_count": 7,
   "id": "909c49d7",
   "metadata": {},
   "outputs": [],
   "source": [
    "def discretize_state(state, space_list):\n",
    "    data = []\n",
    "    for i in range(4):\n",
    "        data.append(int(min(bins[i]-1, np.digitize(state[i], space_list[i]))))\n",
    "    return (data[0], data[1], data[2], data[3])"
   ]
  },
  {
   "cell_type": "markdown",
   "id": "121eeb97",
   "metadata": {},
   "source": [
    "## Render function"
   ]
  },
  {
   "cell_type": "code",
   "execution_count": 8,
   "id": "c88a0ea4",
   "metadata": {},
   "outputs": [],
   "source": [
    "def test(Q):\n",
    "    state = env.reset()\n",
    "    done = False\n",
    "    env.render()\n",
    "    for i in range(100):\n",
    "        ds = discretize_state(state, space_list)\n",
    "        action = np.argmax(Q[ds])\n",
    "        state, reward, done, info = env.step(action)\n",
    "        env.render()\n",
    "    env.close()"
   ]
  },
  {
   "cell_type": "code",
   "execution_count": 9,
   "id": "b8b71b0e",
   "metadata": {},
   "outputs": [],
   "source": [
    "def test2(Q):\n",
    "    state = env.reset()\n",
    "    done = False\n",
    "    env.render()\n",
    "\n",
    "    while not done:\n",
    "        ds = discretize_state(state, space_list)\n",
    "        action = np.argmax(Q[ds])\n",
    "        state, reward, done, info = env.step(action)\n",
    "        env.render()\n",
    "\n",
    "    env.close()"
   ]
  },
  {
   "cell_type": "markdown",
   "id": "9bbb310d",
   "metadata": {},
   "source": [
    "## Q-Learning"
   ]
  },
  {
   "cell_type": "code",
   "execution_count": 10,
   "id": "35290cd5",
   "metadata": {
    "scrolled": true
   },
   "outputs": [
    {
     "name": "stdout",
     "output_type": "stream",
     "text": [
      "Episode: 20000\n",
      "sum of reward: 479813.0\n",
      "학습 완료\n"
     ]
    }
   ],
   "source": [
    "env = gym.make('CartPole-v1')\n",
    "\n",
    "Q = np.zeros([bins[0], bins[1], bins[2], bins[3], 2])\n",
    "alpha = 0.1\n",
    "gamma = 0.99\n",
    "epsilon = 0.1\n",
    "\n",
    "all_reward = []\n",
    "epi_reward = 0\n",
    "\n",
    "for i in range(1, 20001):\n",
    "    state = env.reset()\n",
    "    ds = discretize_state(state, space_list)\n",
    "    done = False\n",
    "    tr = 0\n",
    "    \n",
    "    #epsilon -= (0.5 / 20000)\n",
    "    \n",
    "    while not done:\n",
    "        tr += 1\n",
    "        \n",
    "        if random.uniform(0, 1) < epsilon:\n",
    "            action = env.action_space.sample()\n",
    "        else:\n",
    "            action = np.argmax(Q[ds])\n",
    "        \n",
    "        next_state, reward, done, info = env.step(action)\n",
    "        nds = discretize_state(next_state, space_list)\n",
    "    \n",
    "        epi_reward += reward\n",
    "        \n",
    "        if done and tr < 300:\n",
    "            reward = -500\n",
    "        \n",
    "        Q[ds][action] = (1 - alpha) * Q[ds][action] + alpha * (reward + gamma * np.max(Q[nds]))\n",
    "        \n",
    "        state = next_state\n",
    "        ds = nds\n",
    "        \n",
    "    if i % 1000 == 0:\n",
    "        clear_output(wait=True)\n",
    "        print('Episode:', i)\n",
    "        print('sum of reward:', epi_reward)\n",
    "        #test(Q)\n",
    "        test2(Q)\n",
    "        all_reward.append(epi_reward)\n",
    "        epi_reward = 0\n",
    "        \n",
    "print('학습 완료')"
   ]
  },
  {
   "cell_type": "code",
   "execution_count": 11,
   "id": "fc178502",
   "metadata": {},
   "outputs": [
    {
     "data": {
      "text/plain": [
       "[<matplotlib.lines.Line2D at 0x22c8d541d60>]"
      ]
     },
     "execution_count": 11,
     "metadata": {},
     "output_type": "execute_result"
    },
    {
     "data": {
      "image/png": "[encoded data removed]",
      "text/plain": [
       "<Figure size 432x288 with 1 Axes>"
      ]
     },
     "metadata": {
      "needs_background": "light"
     },
     "output_type": "display_data"
    }
   ],
   "source": [
    "x = np.linspace(1000, 20000, 20)\n",
    "\n",
    "plt.plot(x, np.array(all_reward)/1000)"
   ]
  },
  {
   "cell_type": "markdown",
   "id": "ebc4c6fe",
   "metadata": {},
   "source": [
    "## SARSA"
   ]
  },
  {
   "cell_type": "code",
   "execution_count": 12,
   "id": "1ea29b4d",
   "metadata": {},
   "outputs": [
    {
     "name": "stdout",
     "output_type": "stream",
     "text": [
      "Episode: 20000\n",
      "sum of reward 429911.0\n",
      "학습 완료\n"
     ]
    }
   ],
   "source": [
    "env = gym.make('CartPole-v1')\n",
    "\n",
    "Q = np.zeros([bins[0], bins[1], bins[2], bins[3], 2])\n",
    "alpha = 0.1\n",
    "gamma = 0.99\n",
    "epsilon = 0.1\n",
    "\n",
    "all_reward = []\n",
    "epi_reward = 0\n",
    "\n",
    "for i in range(1, 20001):\n",
    "    state = env.reset()\n",
    "    done = False\n",
    "    \n",
    "    ds = discretize_state(state, space_list)\n",
    "    \n",
    "    if random.uniform(0, 1) < epsilon:\n",
    "        action = env.action_space.sample()\n",
    "    else:\n",
    "        action = np.argmax(Q[ds])\n",
    "    \n",
    "    tr = 0\n",
    "    \n",
    "    while not done:\n",
    "        \n",
    "        tr += 1\n",
    "        \n",
    "        next_state, reward, done, info = env.step(action)\n",
    "        \n",
    "        dns = discretize_state(next_state, space_list)\n",
    "        \n",
    "        if random.uniform(0, 1) < epsilon:\n",
    "            next_action = env.action_space.sample()\n",
    "        else:\n",
    "            next_action = np.argmax(Q[dns])\n",
    "        \n",
    "        epi_reward += reward\n",
    "        \n",
    "        if done and tr < 300:\n",
    "            reward = -500\n",
    "        \n",
    "        Q[ds][action] = (1 - alpha) * Q[ds][action] + alpha * (reward + gamma * Q[dns][next_action])\n",
    "        \n",
    "        state = next_state\n",
    "        action = next_action\n",
    "        ds = dns\n",
    "        \n",
    "    if i % 1000 == 0:\n",
    "        clear_output(wait=True)\n",
    "        print('Episode:', i)\n",
    "        print('sum of reward', epi_reward)\n",
    "        #test(Q)\n",
    "        test2(Q)\n",
    "        all_reward.append(epi_reward)\n",
    "        epi_reward = 0\n",
    "        \n",
    "print('학습 완료')"
   ]
  },
  {
   "cell_type": "code",
   "execution_count": 13,
   "id": "f09a376d",
   "metadata": {
    "lines_to_next_cell": 0
   },
   "outputs": [
    {
     "data": {
      "text/plain": [
       "[<matplotlib.lines.Line2D at 0x22c8e685850>]"
      ]
     },
     "execution_count": 13,
     "metadata": {},
     "output_type": "execute_result"
    },
    {
     "data": {
      "image/png": "[encoded data removed]",
      "text/plain": [
       "<Figure size 432x288 with 1 Axes>"
      ]
     },
     "metadata": {
      "needs_background": "light"
     },
     "output_type": "display_data"
    }
   ],
   "source": [
    "x = np.linspace(1000, 20000, 20)\n",
    "\n",
    "plt.plot(x, np.array(all_reward)/1000)"
   ]
  },
  {
   "cell_type": "code",
   "execution_count": null,
   "id": "bcb7e434",
   "metadata": {
    "lines_to_next_cell": 2
   },
   "outputs": [],
   "source": []
  }
 ],
 "metadata": {
  "jupytext": {
   "encoding": "# -*- coding: utf-8 -*-",
   "formats": "ipynb,py:light"
  },
  "kernelspec": {
   "display_name": "Python 3",
   "language": "python",
   "name": "python3"
  },
  "language_info": {
   "codemirror_mode": {
    "name": "ipython",
    "version": 3
   },
   "file_extension": ".py",
   "mimetype": "text/x-python",
   "name": "python",
   "nbconvert_exporter": "python",
   "pygments_lexer": "ipython3",
   "version": "3.8.8"
  }
 },
 "nbformat": 4,
 "nbformat_minor": 5
}
